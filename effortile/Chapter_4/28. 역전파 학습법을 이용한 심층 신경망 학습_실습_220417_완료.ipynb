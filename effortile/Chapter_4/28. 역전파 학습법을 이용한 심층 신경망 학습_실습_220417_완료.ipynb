{
 "cells": [
  {
   "cell_type": "markdown",
   "metadata": {},
   "source": [
    "## 수치 미분을 이용한 심층 신경망 학습"
   ]
  },
  {
   "cell_type": "code",
   "execution_count": 15,
   "metadata": {},
   "outputs": [],
   "source": [
    "import time\n",
    "import numpy as np"
   ]
  },
  {
   "cell_type": "markdown",
   "metadata": {},
   "source": [
    "## 유틸리티 함수"
   ]
  },
  {
   "cell_type": "code",
   "execution_count": 16,
   "metadata": {},
   "outputs": [],
   "source": [
    "def _t(x):\n",
    "    return np.transpose(x)\n",
    "\n",
    "def _m(A, B):\n",
    "    return np.matmul(A, B)"
   ]
  },
  {
   "cell_type": "markdown",
   "metadata": {},
   "source": [
    "## Sigmoid 구현"
   ]
  },
  {
   "cell_type": "code",
   "execution_count": 17,
   "metadata": {},
   "outputs": [],
   "source": [
    "class Sigmoid:\n",
    "    def __init__(self):\n",
    "        self.last_o = 1\n",
    "\n",
    "    def __call__(self, x):\n",
    "        self.last_o = 1 / (1.0 + np.exp(-x))\n",
    "        return self.last_o\n",
    "\n",
    "    def grad(self):\n",
    "        return self.last_o * (1 - self.last_o)\n",
    "        "
   ]
  },
  {
   "cell_type": "markdown",
   "metadata": {},
   "source": [
    "## Mean Squared Error 구현"
   ]
  },
  {
   "cell_type": "code",
   "execution_count": 18,
   "metadata": {},
   "outputs": [],
   "source": [
    "class MeanSquaredError:\n",
    "    def __init__(self):\n",
    "        # gradient 자리 마련\n",
    "        self.dh = 1\n",
    "        self.last_diff = 1\n",
    "        \n",
    "\n",
    "    def __call__(self, h, y): # 1/2 * mean( (h-y)^2)\n",
    "        self.last_diff = h - y\n",
    "        return 1/2 * np.mean( np.square(h-y))\n",
    "\n",
    "    def grad(self): # (h-y)\n",
    "        return self.last_diff"
   ]
  },
  {
   "cell_type": "markdown",
   "metadata": {},
   "source": [
    "## 뉴런 구현"
   ]
  },
  {
   "cell_type": "code",
   "execution_count": 19,
   "metadata": {},
   "outputs": [],
   "source": [
    "class Neuron: # 사실상 하나의 Layer 의미\n",
    "    def __init__(self, W, b, a_obj):\n",
    "        # Model Parameters\n",
    "        self.W = W\n",
    "        self.b = b\n",
    "        self.a = a_obj() # class라서 괄호를 붙여야 하나봄\n",
    "        \n",
    "        # gradient\n",
    "        self.dW = np.zeros_like(self.W)\n",
    "        self.db = np.zeros_like(self.b)\n",
    "        self.dh = np.zeros_like(_t(self.W))\n",
    "        \n",
    "        self.last_x = np.zeros((self.W.shape[0])) # W로 미분했을 때, 마지막 x의 값이 필요하기 때문\n",
    "        self.last_h = np.zeros((self.W.shape[1]))\n",
    "\n",
    "    def __call__(self, x):\n",
    "        self.last_x = x\n",
    "        self.last_h = _m(_t(self.W), x) + self.b\n",
    "        return self.a(self.last_h)\n",
    "\n",
    "    def grad(self): # dy/dh = W\n",
    "        return self.W * self.a.grad()\n",
    "\n",
    "    def grad_W(self, dh):\n",
    "        grad = np.ones_like(self.W)\n",
    "        grad_a = self.a.grad()\n",
    "        for j in range(grad.shape[1]): # y = w^Tx + b => dy/dw = x, w : vector\n",
    "            grad[:,j] = dh[j] * grad_a[j] * self.last_x\n",
    "        return grad\n",
    "\n",
    "    def grad_b(self, dh):\n",
    "        return dh * self.a.grad() * 1"
   ]
  },
  {
   "cell_type": "markdown",
   "metadata": {},
   "source": [
    "## 심층신경망 구현"
   ]
  },
  {
   "cell_type": "code",
   "execution_count": 20,
   "metadata": {},
   "outputs": [],
   "source": [
    "class DNN:\n",
    "    def __init__(self, hidden_depth, num_neuron, input, output, activation=Sigmoid):\n",
    "        def init_var(i, o):\n",
    "            return np.random.normal(0.0, 0.01, (i, o)), np.zeros((o,))\n",
    "\n",
    "        self.sequence = list()\n",
    "        # First hidden layer\n",
    "        W, b = init_var(input, num_neuron)\n",
    "        self.sequence.append(Neuron(W, b, activation))\n",
    "\n",
    "        # Hidden Layers\n",
    "        for index in range(hidden_depth):\n",
    "            W, b = init_var(num_neuron, num_neuron)\n",
    "            self.sequence.append(Neuron(W, b, activation))\n",
    "\n",
    "        # Output Layer\n",
    "        W, b = init_var(num_neuron, output)\n",
    "        self.sequence.append(Neuron(W, b, activation))\n",
    "\n",
    "    def __call__(self, x):\n",
    "        for layer in self.sequence:\n",
    "            x = layer(x)\n",
    "        return x\n",
    "\n",
    "    def calc_gradient(self, loss_obj):\n",
    "        loss_obj.dh = loss_obj.grad()\n",
    "        self.sequence.append(loss_obj)\n",
    "        # back-prop loop\n",
    "        for i in range(len(self.sequence) -1, 0, -1):\n",
    "            l1 = self.sequence[i]\n",
    "            l0 = self.sequence[i-1]\n",
    "            \n",
    "            l0.dh = _m(l0.grad(),l1.dh)\n",
    "            l0.dW = l0.grad_W(l1.dh)\n",
    "            l0.db = l0.grad_b(l1.dh)\n",
    "            \n",
    "        self.sequence.remove(loss_obj)"
   ]
  },
  {
   "cell_type": "markdown",
   "metadata": {},
   "source": [
    "## 경사하강 학습법"
   ]
  },
  {
   "cell_type": "code",
   "execution_count": 21,
   "metadata": {},
   "outputs": [],
   "source": [
    "def gradient_descent(network, x, y, loss_obj, alpha=0.01):\n",
    "    loss = loss_obj(network(x), y)  # Forward inference\n",
    "    network.calc_gradient(loss_obj)  # Back-propagation\n",
    "    for layer in network.sequence:\n",
    "        layer.W += -alpha * layer.dW\n",
    "        layer.b += -alpha * layer.db\n",
    "    return loss"
   ]
  },
  {
   "cell_type": "markdown",
   "metadata": {},
   "source": [
    "## 동작 테스트"
   ]
  },
  {
   "cell_type": "code",
   "execution_count": 22,
   "metadata": {},
   "outputs": [
    {
     "name": "stdout",
     "output_type": "stream",
     "text": [
      "Epoch 0: Test loss 0.09611686633832092\n",
      "Epoch 1: Test loss 0.09503371297418407\n",
      "Epoch 2: Test loss 0.09396291616575993\n",
      "Epoch 3: Test loss 0.09290443764040765\n",
      "Epoch 4: Test loss 0.09185823418117237\n",
      "Epoch 5: Test loss 0.09082425782212378\n",
      "Epoch 6: Test loss 0.08980245604336023\n",
      "Epoch 7: Test loss 0.08879277196525973\n",
      "Epoch 8: Test loss 0.08779514454158012\n",
      "Epoch 9: Test loss 0.08680950875103936\n",
      "Epoch 10: Test loss 0.0858357957870282\n",
      "Epoch 11: Test loss 0.08487393324513294\n",
      "Epoch 12: Test loss 0.08392384530817151\n",
      "Epoch 13: Test loss 0.08298545292846729\n",
      "Epoch 14: Test loss 0.08205867400711152\n",
      "Epoch 15: Test loss 0.08114342356998576\n",
      "Epoch 16: Test loss 0.08023961394034017\n",
      "Epoch 17: Test loss 0.07934715490774262\n",
      "Epoch 18: Test loss 0.0784659538932383\n",
      "Epoch 19: Test loss 0.07759591611057526\n",
      "Epoch 20: Test loss 0.07673694472337525\n",
      "Epoch 21: Test loss 0.07588894099814374\n",
      "Epoch 22: Test loss 0.07505180445303411\n",
      "Epoch 23: Test loss 0.07422543300229545\n",
      "Epoch 24: Test loss 0.0734097230963504\n",
      "Epoch 25: Test loss 0.07260456985746472\n",
      "Epoch 26: Test loss 0.07180986721098336\n",
      "Epoch 27: Test loss 0.07102550801212257\n",
      "Epoch 28: Test loss 0.07025138416831794\n",
      "Epoch 29: Test loss 0.06948738675714236\n",
      "Epoch 30: Test loss 0.06873340613981524\n",
      "Epoch 31: Test loss 0.06798933207033794\n",
      "Epoch 32: Test loss 0.06725505380029556\n",
      "Epoch 33: Test loss 0.0665304601793763\n",
      "Epoch 34: Test loss 0.06581543975166573\n",
      "Epoch 35: Test loss 0.06510988084778008\n",
      "Epoch 36: Test loss 0.0644136716729091\n",
      "Epoch 37: Test loss 0.06372670039084415\n",
      "Epoch 38: Test loss 0.06304885520407202\n",
      "Epoch 39: Test loss 0.06238002443001885\n",
      "Epoch 40: Test loss 0.061720096573532446\n",
      "Epoch 41: Test loss 0.06106896039569434\n",
      "Epoch 42: Test loss 0.06042650497905472\n",
      "Epoch 43: Test loss 0.05979261978938667\n",
      "Epoch 44: Test loss 0.05916719473405663\n",
      "Epoch 45: Test loss 0.05855012021710969\n",
      "Epoch 46: Test loss 0.05794128719116924\n",
      "Epoch 47: Test loss 0.057340587206250765\n",
      "Epoch 48: Test loss 0.05674791245558977\n",
      "Epoch 49: Test loss 0.056163155818583735\n",
      "Epoch 50: Test loss 0.055586210900947376\n",
      "Epoch 51: Test loss 0.05501697207218012\n",
      "Epoch 52: Test loss 0.05445533450044372\n",
      "Epoch 53: Test loss 0.053901194184946294\n",
      "Epoch 54: Test loss 0.05335444798592896\n",
      "Epoch 55: Test loss 0.05281499365234835\n",
      "Epoch 56: Test loss 0.052282729847348025\n",
      "Epoch 57: Test loss 0.05175755617160899\n",
      "Epoch 58: Test loss 0.05123937318466863\n",
      "Epoch 59: Test loss 0.05072808242429472\n",
      "Epoch 60: Test loss 0.05022358642399956\n",
      "Epoch 61: Test loss 0.04972578872877715\n",
      "Epoch 62: Test loss 0.0492345939091441\n",
      "Epoch 63: Test loss 0.0487499075735629\n",
      "Epoch 64: Test loss 0.04827163637932398\n",
      "Epoch 65: Test loss 0.0477996880419608\n",
      "Epoch 66: Test loss 0.04733397134326949\n",
      "Epoch 67: Test loss 0.04687439613800354\n",
      "Epoch 68: Test loss 0.04642087335931013\n",
      "Epoch 69: Test loss 0.045973315022974\n",
      "Epoch 70: Test loss 0.04553163423053143\n",
      "Epoch 71: Test loss 0.04509574517131549\n",
      "Epoch 72: Test loss 0.04466556312349093\n",
      "Epoch 73: Test loss 0.044241004454135396\n",
      "Epoch 74: Test loss 0.04382198661842133\n",
      "Epoch 75: Test loss 0.04340842815795075\n",
      "Epoch 76: Test loss 0.043000248698293456\n",
      "Epoch 77: Test loss 0.042597368945776676\n",
      "Epoch 78: Test loss 0.04219971068357266\n",
      "Epoch 79: Test loss 0.04180719676712872\n",
      "Epoch 80: Test loss 0.04141975111898194\n",
      "Epoch 81: Test loss 0.04103729872299998\n",
      "Epoch 82: Test loss 0.04065976561808621\n",
      "Epoch 83: Test loss 0.040287078891387065\n",
      "Epoch 84: Test loss 0.0399191666710371\n",
      "Epoch 85: Test loss 0.039555958118475565\n",
      "Epoch 86: Test loss 0.03919738342036719\n",
      "Epoch 87: Test loss 0.03884337378015813\n",
      "Epoch 88: Test loss 0.03849386140929642\n",
      "Epoch 89: Test loss 0.038148779518145146\n",
      "Epoch 90: Test loss 0.03780806230661507\n",
      "Epoch 91: Test loss 0.037471644954541874\n",
      "Epoch 92: Test loss 0.03713946361183254\n",
      "Epoch 93: Test loss 0.03681145538840343\n",
      "Epoch 94: Test loss 0.036487558343932094\n",
      "Epoch 95: Test loss 0.036167711477443125\n",
      "Epoch 96: Test loss 0.035851854716747816\n",
      "Epoch 97: Test loss 0.03553992890775607\n",
      "Epoch 98: Test loss 0.03523187580367796\n",
      "Epoch 99: Test loss 0.03492763805413142\n",
      "0.08275413513183594 seconds elapsed.\n"
     ]
    }
   ],
   "source": [
    "x = np.random.normal(0.0, 1.0, (10,))\n",
    "y = np.random.normal(0.0, 1.0, (2,))\n",
    "\n",
    "t = time.time()\n",
    "dnn = DNN(hidden_depth=5, num_neuron=32, input=10, output=2, activation=Sigmoid)\n",
    "loss_obj = MeanSquaredError()\n",
    "for epoch in range(100):\n",
    "    loss = gradient_descent(dnn, x, y, loss_obj, alpha=0.01)\n",
    "    print('Epoch {}: Test loss {}'.format(epoch, loss))\n",
    "print('{} seconds elapsed.'.format(time.time() - t))"
   ]
  }
 ],
 "metadata": {
  "kernelspec": {
   "display_name": "Python 3",
   "language": "python",
   "name": "python3"
  },
  "language_info": {
   "codemirror_mode": {
    "name": "ipython",
    "version": 3
   },
   "file_extension": ".py",
   "mimetype": "text/x-python",
   "name": "python",
   "nbconvert_exporter": "python",
   "pygments_lexer": "ipython3",
   "version": "3.8.8"
  }
 },
 "nbformat": 4,
 "nbformat_minor": 2
}
