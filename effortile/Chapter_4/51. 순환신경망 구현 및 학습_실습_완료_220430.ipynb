{
 "cells": [
  {
   "cell_type": "markdown",
   "metadata": {},
   "source": [
    "## 순환신경망 구현 및 학습"
   ]
  },
  {
   "cell_type": "code",
   "execution_count": 35,
   "metadata": {},
   "outputs": [],
   "source": [
    "import tensorflow as tf"
   ]
  },
  {
   "cell_type": "markdown",
   "metadata": {},
   "source": [
    "## 하이퍼 파라미터"
   ]
  },
  {
   "cell_type": "code",
   "execution_count": 36,
   "metadata": {},
   "outputs": [],
   "source": [
    "EPOCHS = 10\n",
    "NUM_WORDS = 10000"
   ]
  },
  {
   "cell_type": "markdown",
   "metadata": {},
   "source": [
    "## 모델 정의"
   ]
  },
  {
   "cell_type": "code",
   "execution_count": 37,
   "metadata": {},
   "outputs": [],
   "source": [
    "class MyModel(tf.keras.Model):\n",
    "    def __init__(self):\n",
    "        super(MyModel, self).__init__()\n",
    "        self.emb = tf.keras.layers.Embedding(NUM_WORDS, 16) # 길이가 NUM_WORDS인 one-hot vector에서 16개의 feature를 뽑아내는것\n",
    "        #self.rnn = tf.keras.layers.SimpleRNN(32)\n",
    "        self.rnn = tf.keras.layers.LSTM(32)\n",
    "        self.dense = tf.keras.layers.Dense(2, activation='softmax')\n",
    "        # Sentiment Classification : 이번에 다룰 data는 영화에 대한 리뷰를 통해 긍정적인지, 부정적인지를 보기 위해 사용하는 것임.\n",
    "        # 따라서 길이가 2인 softmax 형태로 되어 있음.\n",
    "        \n",
    "        \n",
    "    def call (self, x, training=None, mask=None):\n",
    "        x = self.emb(x)\n",
    "        x = self.rnn(x)\n",
    "        return self.dense(x)"
   ]
  },
  {
   "cell_type": "markdown",
   "metadata": {},
   "source": [
    "## 학습, 테스트 루프 정의"
   ]
  },
  {
   "cell_type": "code",
   "execution_count": 38,
   "metadata": {},
   "outputs": [],
   "source": [
    "# Implement training loop\n",
    "@tf.function\n",
    "def train_step(model, inputs, labels, loss_object, optimizer, train_loss, train_accuracy):\n",
    "    with tf.GradientTape() as tape:\n",
    "        predictions = model(inputs, training=True)\n",
    "        loss = loss_object(labels, predictions)\n",
    "    gradients = tape.gradient(loss, model.trainable_variables)\n",
    "\n",
    "    optimizer.apply_gradients(zip(gradients, model.trainable_variables))\n",
    "    train_loss(loss)\n",
    "    train_accuracy(labels, predictions)\n",
    "\n",
    "# Implement algorithm test\n",
    "@tf.function\n",
    "def test_step(model, images, labels, loss_object, test_loss, test_accuracy):\n",
    "    predictions = model(images, training=False)\n",
    "\n",
    "    t_loss = loss_object(labels, predictions)\n",
    "    test_loss(t_loss)\n",
    "    test_accuracy(labels, predictions)"
   ]
  },
  {
   "cell_type": "markdown",
   "metadata": {},
   "source": [
    "## 데이터셋 준비\n"
   ]
  },
  {
   "cell_type": "code",
   "execution_count": 39,
   "metadata": {},
   "outputs": [],
   "source": [
    "imdb = tf.keras.datasets.imdb\n",
    "(x_train, y_train), (x_test, y_test) = imdb.load_data(num_words = NUM_WORDS)\n",
    "\n",
    "# train data와 test data는 길이가 다를 수도 있어서, 최대길이를 정하고 padding도 해줘야함\n",
    "x_train = tf.keras.preprocessing.sequence.pad_sequences(x_train, value =0, padding = 'pre', maxlen=32)\n",
    "x_test = tf.keras.preprocessing.sequence.pad_sequences(x_test, value =0, padding = 'pre', maxlen=32)\n",
    "\n",
    "train_ds = tf.data.Dataset.from_tensor_slices((x_train, y_train)).shuffle(10000).batch(32)\n",
    "test_ds = tf.data.Dataset.from_tensor_slices((x_test,y_test)).batch(32)"
   ]
  },
  {
   "cell_type": "markdown",
   "metadata": {},
   "source": [
    "## 학습 환경 정의\n",
    "### 모델 생성, 손실함수, 최적화 알고리즘, 평가지표 정의"
   ]
  },
  {
   "cell_type": "code",
   "execution_count": 40,
   "metadata": {},
   "outputs": [],
   "source": [
    "# Create model\n",
    "model = MyModel()\n",
    "\n",
    "# Define loss and optimizer\n",
    "loss_object = tf.keras.losses.SparseCategoricalCrossentropy()\n",
    "optimizer = tf.keras.optimizers.Adam()\n",
    "\n",
    "# Define performance metrics\n",
    "train_loss = tf.keras.metrics.Mean(name='train_loss')\n",
    "train_accuracy = tf.keras.metrics.SparseCategoricalAccuracy(name='train_accuracy')\n",
    "\n",
    "test_loss = tf.keras.metrics.Mean(name='test_loss')\n",
    "test_accuracy = tf.keras.metrics.SparseCategoricalAccuracy(name='test_accuracy')"
   ]
  },
  {
   "cell_type": "markdown",
   "metadata": {},
   "source": [
    "## 학습 루프 동작"
   ]
  },
  {
   "cell_type": "code",
   "execution_count": 41,
   "metadata": {},
   "outputs": [
    {
     "name": "stdout",
     "output_type": "stream",
     "text": [
      "Epoch 1, Loss: 0.5008742809295654, Accuracy: 74.38399505615234, Test Loss: 0.43772271275520325, Test Accuracy: 79.37999725341797\n",
      "Epoch 2, Loss: 0.36841100454330444, Accuracy: 83.58399963378906, Test Loss: 0.4437551200389862, Test Accuracy: 78.99600219726562\n",
      "Epoch 3, Loss: 0.3094742000102997, Accuracy: 86.68399810791016, Test Loss: 0.4840843379497528, Test Accuracy: 78.5040054321289\n",
      "Epoch 4, Loss: 0.24720034003257751, Accuracy: 89.80799865722656, Test Loss: 0.5605773329734802, Test Accuracy: 77.447998046875\n",
      "Epoch 5, Loss: 0.19194144010543823, Accuracy: 92.3479995727539, Test Loss: 0.6527582406997681, Test Accuracy: 76.30400085449219\n",
      "Epoch 6, Loss: 0.14359787106513977, Accuracy: 94.45600128173828, Test Loss: 0.76653653383255, Test Accuracy: 76.2040023803711\n",
      "Epoch 7, Loss: 0.10695689916610718, Accuracy: 95.92400360107422, Test Loss: 0.9472301006317139, Test Accuracy: 75.59600067138672\n",
      "Epoch 8, Loss: 0.07656870782375336, Accuracy: 97.19999694824219, Test Loss: 1.113505482673645, Test Accuracy: 75.41200256347656\n",
      "Epoch 9, Loss: 0.05403313785791397, Accuracy: 98.05999755859375, Test Loss: 1.2048765420913696, Test Accuracy: 75.0999984741211\n",
      "Epoch 10, Loss: 0.03940702602267265, Accuracy: 98.58800506591797, Test Loss: 1.3743330240249634, Test Accuracy: 74.81200408935547\n"
     ]
    }
   ],
   "source": [
    "for epoch in range(EPOCHS):\n",
    "    for seqs, labels in train_ds:\n",
    "        train_step(model, seqs, labels, loss_object, optimizer, train_loss, train_accuracy)\n",
    "\n",
    "    for test_seqs, test_labels in test_ds:\n",
    "        test_step(model, test_seqs, test_labels, loss_object, test_loss, test_accuracy)\n",
    "\n",
    "    template = 'Epoch {}, Loss: {}, Accuracy: {}, Test Loss: {}, Test Accuracy: {}'\n",
    "    print(template.format(epoch + 1,\n",
    "                          train_loss.result(),\n",
    "                          train_accuracy.result() * 100,\n",
    "                          test_loss.result(),\n",
    "                          test_accuracy.result() * 100))\n",
    "    train_loss.reset_states()\n",
    "    train_accuracy.reset_states()\n",
    "    test_loss.reset_states()\n",
    "    test_accuracy.reset_states()"
   ]
  }
 ],
 "metadata": {
  "kernelspec": {
   "display_name": "Python 3",
   "language": "python",
   "name": "python3"
  },
  "language_info": {
   "codemirror_mode": {
    "name": "ipython",
    "version": 3
   },
   "file_extension": ".py",
   "mimetype": "text/x-python",
   "name": "python",
   "nbconvert_exporter": "python",
   "pygments_lexer": "ipython3",
   "version": "3.8.8"
  }
 },
 "nbformat": 4,
 "nbformat_minor": 2
}
