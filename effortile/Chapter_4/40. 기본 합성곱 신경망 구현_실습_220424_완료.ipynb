{
 "cells": [
  {
   "cell_type": "markdown",
   "metadata": {},
   "source": [
    "## 기본 합성곱 신경망 구현"
   ]
  },
  {
   "cell_type": "code",
   "execution_count": 1,
   "metadata": {},
   "outputs": [],
   "source": [
    "import tensorflow as tf\n",
    "import numpy as np"
   ]
  },
  {
   "cell_type": "markdown",
   "metadata": {},
   "source": [
    "## 하이퍼 파라미터"
   ]
  },
  {
   "cell_type": "code",
   "execution_count": 2,
   "metadata": {},
   "outputs": [],
   "source": [
    "EPOCHS = 10"
   ]
  },
  {
   "cell_type": "markdown",
   "metadata": {},
   "source": [
    "## 모델 정의"
   ]
  },
  {
   "cell_type": "code",
   "execution_count": 11,
   "metadata": {},
   "outputs": [],
   "source": [
    "class ConvNet(tf.keras.Model):\n",
    "    def __init__(self):\n",
    "        super(ConvNet, self).__init__()\n",
    "        conv2d = tf.keras.layers.Conv2D\n",
    "        maxpool = tf.keras.layers.MaxPool2D\n",
    "        self.sequence = list()\n",
    "        self.sequence.append(conv2d(16, (3,3), padding='same', activation = 'relu')) # 28x28x16\n",
    "        self.sequence.append(conv2d(16, (3,3), padding='same', activation = 'relu')) # 28x28x16\n",
    "        self.sequence.append(maxpool((2,2))) # 14x14x16\n",
    "        \n",
    "        self.sequence.append(conv2d(32, (3,3), padding='same', activation = 'relu')) # 14x14x32\n",
    "        self.sequence.append(conv2d(32, (3,3), padding='same', activation = 'relu')) # 14x14x32\n",
    "        self.sequence.append(maxpool((2,2))) # 7x7x32\n",
    "        \n",
    "        self.sequence.append(conv2d(64, (3,3), padding='same', activation = 'relu')) # 7x7x64\n",
    "        self.sequence.append(conv2d(64, (3,3), padding='same', activation = 'relu')) # 7x7x64\n",
    "        self.sequence.append(tf.keras.layers.Flatten()) # 1568\n",
    "        self.sequence.append(tf.keras.layers.Dense(2048, activation='relu'))\n",
    "        self.sequence.append(tf.keras.layers.Dense(10, activation='softmax'))\n",
    "        \n",
    "\n",
    "    def call(self, x, training=False, mask=None):\n",
    "        for layers in self.sequence:\n",
    "            x = layers(x)\n",
    "        return x\n",
    "        "
   ]
  },
  {
   "cell_type": "markdown",
   "metadata": {},
   "source": [
    "## 학습, 테스트 루프 정의"
   ]
  },
  {
   "cell_type": "code",
   "execution_count": 12,
   "metadata": {},
   "outputs": [],
   "source": [
    "# Implement training loop\n",
    "@tf.function\n",
    "def train_step(model, images, labels, loss_object, optimizer, train_loss, train_accuracy):\n",
    "    with tf.GradientTape() as tape:\n",
    "        predictions = model(images)\n",
    "        loss = loss_object(labels, predictions)\n",
    "    gradients = tape.gradient(loss, model.trainable_variables)\n",
    "\n",
    "    optimizer.apply_gradients(zip(gradients, model.trainable_variables))\n",
    "    train_loss(loss)\n",
    "    train_accuracy(labels, predictions)\n",
    "\n",
    "# Implement algorithm test\n",
    "@tf.function\n",
    "def test_step(model, images, labels, loss_object, test_loss, test_accuracy):\n",
    "    predictions = model(images)\n",
    "\n",
    "    t_loss = loss_object(labels, predictions)\n",
    "    test_loss(t_loss)\n",
    "    test_accuracy(labels, predictions)"
   ]
  },
  {
   "cell_type": "markdown",
   "metadata": {},
   "source": [
    "## 데이터셋 준비\n"
   ]
  },
  {
   "cell_type": "code",
   "execution_count": 13,
   "metadata": {},
   "outputs": [],
   "source": [
    "mnist = tf.keras.datasets.mnist\n",
    "\n",
    "(x_train, y_train), (x_test, y_test) = mnist.load_data()\n",
    "xtrain, x_test = x_train / 255.0, x_test / 255.0\n",
    "\n",
    "# x_train : NUM_SAMPLE, 28, 28 -> (NUM_SAMPLE, 28, 28, 1)\n",
    "\n",
    "x_train = x_train[..., tf.newaxis].astype(np.float32)\n",
    "x_test = x_test[..., tf.newaxis].astype(np.float32)\n",
    "\n",
    "train_ds = tf.data.Dataset.from_tensor_slices((x_train, y_train)).shuffle(10000).batch(32)\n",
    "test_ds = tf.data.Dataset.from_tensor_slices((x_test, y_test)).batch(32)"
   ]
  },
  {
   "cell_type": "markdown",
   "metadata": {},
   "source": [
    "## 학습 환경 정의\n",
    "### 모델 생성, 손실함수, 최적화 알고리즘, 평가지표 정의"
   ]
  },
  {
   "cell_type": "code",
   "execution_count": 14,
   "metadata": {},
   "outputs": [],
   "source": [
    "# Create model\n",
    "model = ConvNet()\n",
    "\n",
    "# Define loss and optimizer\n",
    "loss_object = tf.keras.losses.SparseCategoricalCrossentropy()\n",
    "optimizer = tf.keras.optimizers.Adam()\n",
    "\n",
    "# Define performance metrics\n",
    "train_loss = tf.keras.metrics.Mean(name='train_loss')\n",
    "train_accuracy = tf.keras.metrics.SparseCategoricalAccuracy(name='train_accuracy')\n",
    "\n",
    "test_loss = tf.keras.metrics.Mean(name='test_loss')\n",
    "test_accuracy = tf.keras.metrics.SparseCategoricalAccuracy(name='test_accuracy')"
   ]
  },
  {
   "cell_type": "markdown",
   "metadata": {},
   "source": [
    "## 학습 루프 동작"
   ]
  },
  {
   "cell_type": "code",
   "execution_count": 15,
   "metadata": {},
   "outputs": [
    {
     "name": "stdout",
     "output_type": "stream",
     "text": [
      "Epoch 1, Loss: 0.19837869703769684, Accuracy: 95.62833404541016, Test Loss: 2.2968344688415527, Test Accuracy: 11.350000381469727\n",
      "Epoch 2, Loss: 0.061443790793418884, Accuracy: 98.125, Test Loss: 2.3996384143829346, Test Accuracy: 11.350000381469727\n",
      "Epoch 3, Loss: 0.05238678678870201, Accuracy: 98.4383316040039, Test Loss: 2.4109296798706055, Test Accuracy: 11.350000381469727\n",
      "Epoch 4, Loss: 0.04267407953739166, Accuracy: 98.7249984741211, Test Loss: 3.3624649047851562, Test Accuracy: 11.350000381469727\n",
      "Epoch 5, Loss: 0.03963099420070648, Accuracy: 98.82333374023438, Test Loss: 5.802657127380371, Test Accuracy: 11.350000381469727\n",
      "Epoch 6, Loss: 0.03513386473059654, Accuracy: 98.91500091552734, Test Loss: 9.757018089294434, Test Accuracy: 11.350000381469727\n",
      "Epoch 7, Loss: 0.03367387130856514, Accuracy: 99.0199966430664, Test Loss: 17.014118194580078, Test Accuracy: 11.350000381469727\n",
      "Epoch 8, Loss: 0.03324258327484131, Accuracy: 99.01000213623047, Test Loss: 33.02206802368164, Test Accuracy: 11.350000381469727\n",
      "Epoch 9, Loss: 0.029503723606467247, Accuracy: 99.10333251953125, Test Loss: 18.08998680114746, Test Accuracy: 11.350000381469727\n",
      "Epoch 10, Loss: 0.028455089777708054, Accuracy: 99.20333862304688, Test Loss: 24.082441329956055, Test Accuracy: 11.350000381469727\n"
     ]
    }
   ],
   "source": [
    "for epoch in range(EPOCHS):\n",
    "    for images, labels in train_ds:\n",
    "        train_step(model, images, labels, loss_object, optimizer, train_loss, train_accuracy)\n",
    "\n",
    "    for test_images, test_labels in test_ds:\n",
    "        test_step(model, test_images, test_labels, loss_object, test_loss, test_accuracy)\n",
    "\n",
    "    template = 'Epoch {}, Loss: {}, Accuracy: {}, Test Loss: {}, Test Accuracy: {}'\n",
    "    print(template.format(epoch + 1,\n",
    "                          train_loss.result(),\n",
    "                          train_accuracy.result() * 100,\n",
    "                          test_loss.result(),\n",
    "                          test_accuracy.result() * 100))\n",
    "    train_loss.reset_states()\n",
    "    train_accuracy.reset_states()\n",
    "    test_loss.reset_states()\n",
    "    test_accuracy.reset_states()"
   ]
  }
 ],
 "metadata": {
  "kernelspec": {
   "display_name": "Python 3",
   "language": "python",
   "name": "python3"
  },
  "language_info": {
   "codemirror_mode": {
    "name": "ipython",
    "version": 3
   },
   "file_extension": ".py",
   "mimetype": "text/x-python",
   "name": "python",
   "nbconvert_exporter": "python",
   "pygments_lexer": "ipython3",
   "version": "3.8.8"
  }
 },
 "nbformat": 4,
 "nbformat_minor": 2
}
