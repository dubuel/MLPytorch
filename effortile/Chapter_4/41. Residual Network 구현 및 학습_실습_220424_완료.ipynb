{
 "cells": [
  {
   "cell_type": "markdown",
   "metadata": {},
   "source": [
    "## Residual Network 구현 및 학습"
   ]
  },
  {
   "cell_type": "code",
   "execution_count": 64,
   "metadata": {},
   "outputs": [],
   "source": [
    "import tensorflow as tf\n",
    "import numpy as np"
   ]
  },
  {
   "cell_type": "markdown",
   "metadata": {},
   "source": [
    "## 하이퍼 파라미터"
   ]
  },
  {
   "cell_type": "code",
   "execution_count": 65,
   "metadata": {},
   "outputs": [],
   "source": [
    "EPOCHS = 10"
   ]
  },
  {
   "cell_type": "markdown",
   "metadata": {},
   "source": [
    "## Residual Unit 구현"
   ]
  },
  {
   "cell_type": "code",
   "execution_count": 66,
   "metadata": {},
   "outputs": [],
   "source": [
    "class ResidualUnit(tf.keras.Model):\n",
    "    def __init__(self, filter_in, filter_out, kernel_size):\n",
    "        super(ResidualUnit, self).__init__()\n",
    "        self.bn1 = tf.keras.layers.BatchNormalization()\n",
    "        self.conv1 = tf.keras.layers.Conv2D(filter_out, kernel_size, padding='same')\n",
    "        \n",
    "        self.bn2 = tf.keras.layers.BatchNormalization()\n",
    "        self.conv2 = tf.keras.layers.Conv2D(filter_out, kernel_size, padding='same')\n",
    "        \n",
    "        if filter_in == filter_out:\n",
    "            self.identity = lambda x: x\n",
    "        else :\n",
    "            self.identity = tf.keras.layers.Conv2D(filter_out, (1,1), padding='same')\n",
    "\n",
    "    def call(self, x, training=False, mask=None):\n",
    "        h = self.bn1(x, training = training)\n",
    "        h = tf.nn.relu(h)\n",
    "        h = self.conv1(h)\n",
    "        \n",
    "        h = self.bn2(x, training = training)\n",
    "        h = tf.nn.relu(h)\n",
    "        h = self.conv2(h)\n",
    "        \n",
    "        return self.identity(x) + h\n",
    "        "
   ]
  },
  {
   "cell_type": "markdown",
   "metadata": {},
   "source": [
    "## Residual Layer 구현"
   ]
  },
  {
   "cell_type": "code",
   "execution_count": 67,
   "metadata": {},
   "outputs": [],
   "source": [
    "class ResnetLayer(tf.keras.Model):\n",
    "    def __init__(self, filter_in, filters, kernel_size):\n",
    "        super(ResnetLayer, self).__init__()\n",
    "        self.sequence = list()\n",
    "        for f_in, f_out in zip( [filter_in] + list(filters), filters): # zip은 길이가 더 작은것 기준으로 돌아가고, 나머지는 무시함\n",
    "            self.sequence.append(ResidualUnit(f_in, f_out, kernel_size))\n",
    "\n",
    "    def call(self, x, training=False, mask=None):\n",
    "        for unit in self.sequence:\n",
    "            x = unit(x, training = training)\n",
    "        return x"
   ]
  },
  {
   "cell_type": "markdown",
   "metadata": {},
   "source": [
    "## 모델 정의"
   ]
  },
  {
   "cell_type": "code",
   "execution_count": 68,
   "metadata": {},
   "outputs": [],
   "source": [
    "class ResNet(tf.keras.Model):\n",
    "    def __init__(self):\n",
    "        super(ResNet, self).__init__()\n",
    "        self.conv1 = tf.keras.layers.Conv2D(8, (3,3), padding='same', activation='relu') # mnist => 28x28 x 8\n",
    "        \n",
    "        self.res1 = ResnetLayer(8, (16,16), (3,3)) # 28x28x16\n",
    "        self.pool1 = tf.keras.layers.MaxPool2D( (2,2)) # 14x14x16\n",
    "        \n",
    "        self.res2 = ResnetLayer(16, (32,32), (3,3)) # 14x14x32\n",
    "        self.pool2 = tf.keras.layers.MaxPool2D( (2,2)) # 7x7x32\n",
    "        \n",
    "        self.res3 = ResnetLayer(32, (64,64), (3,3)) # 7x7x64\n",
    "        self.flatten = tf.keras.layers.Flatten()\n",
    "        self.dense1 = tf.keras.layers.Dense(128, activation='relu')\n",
    "        self.dense2 = tf.keras.layers.Dense(10, activation='softmax')\n",
    "        \n",
    "\n",
    "    def call(self, x, training=False, mask=None):\n",
    "        x = self.conv1(x)\n",
    "        \n",
    "        x = self.res1(x, training = training)\n",
    "        x = self.pool1(x)\n",
    "        x = self.res2(x, training = training)\n",
    "        x = self.pool2(x)\n",
    "        x = self.res3(x, training = training)\n",
    "        \n",
    "        x = self.flatten(x)\n",
    "        x = self.dense1(x)\n",
    "        return self.dense2(x)\n",
    "        "
   ]
  },
  {
   "cell_type": "markdown",
   "metadata": {},
   "source": [
    "## 학습, 테스트 루프 정의"
   ]
  },
  {
   "cell_type": "code",
   "execution_count": 69,
   "metadata": {},
   "outputs": [],
   "source": [
    "# Implement training loop\n",
    "@tf.function\n",
    "def train_step(model, images, labels, loss_object, optimizer, train_loss, train_accuracy):\n",
    "    with tf.GradientTape() as tape:\n",
    "        predictions = model(images, training = True)\n",
    "        loss = loss_object(labels, predictions)\n",
    "    gradients = tape.gradient(loss, model.trainable_variables)\n",
    "\n",
    "    optimizer.apply_gradients(zip(gradients, model.trainable_variables))\n",
    "    train_loss(loss)\n",
    "    train_accuracy(labels, predictions)\n",
    "\n",
    "# Implement algorithm test\n",
    "@tf.function\n",
    "def test_step(model, images, labels, loss_object, test_loss, test_accuracy):\n",
    "    predictions = model(images, training = False)\n",
    "\n",
    "    t_loss = loss_object(labels, predictions)\n",
    "    test_loss(t_loss)\n",
    "    test_accuracy(labels, predictions)"
   ]
  },
  {
   "cell_type": "markdown",
   "metadata": {},
   "source": [
    "## 데이터셋 준비\n"
   ]
  },
  {
   "cell_type": "code",
   "execution_count": 70,
   "metadata": {},
   "outputs": [],
   "source": [
    "mnist = tf.keras.datasets.mnist\n",
    "\n",
    "(x_train, y_train), (x_test, y_test) = mnist.load_data()\n",
    "x_train, x_test = x_train / 255.0, x_test / 255.0\n",
    "\n",
    "x_train = x_train[..., tf.newaxis].astype(np.float32)\n",
    "x_test = x_test[..., tf.newaxis].astype(np.float32)\n",
    "\n",
    "train_ds = tf.data.Dataset.from_tensor_slices((x_train, y_train)).shuffle(10000).batch(32)\n",
    "test_ds = tf.data.Dataset.from_tensor_slices((x_test, y_test)).batch(32)"
   ]
  },
  {
   "cell_type": "markdown",
   "metadata": {},
   "source": [
    "## 학습 환경 정의\n",
    "### 모델 생성, 손실함수, 최적화 알고리즘, 평가지표 정의"
   ]
  },
  {
   "cell_type": "code",
   "execution_count": 71,
   "metadata": {},
   "outputs": [],
   "source": [
    "# Create model\n",
    "model = ResNet()\n",
    "\n",
    "# Define loss and optimizer\n",
    "loss_object = tf.keras.losses.SparseCategoricalCrossentropy()\n",
    "optimizer = tf.keras.optimizers.Adam()\n",
    "\n",
    "# Define performance metrics\n",
    "train_loss = tf.keras.metrics.Mean(name='train_loss')\n",
    "train_accuracy = tf.keras.metrics.SparseCategoricalAccuracy(name='train_accuracy')\n",
    "\n",
    "test_loss = tf.keras.metrics.Mean(name='test_loss')\n",
    "test_accuracy = tf.keras.metrics.SparseCategoricalAccuracy(name='test_accuracy')"
   ]
  },
  {
   "cell_type": "markdown",
   "metadata": {},
   "source": [
    "## 학습 루프 동작"
   ]
  },
  {
   "cell_type": "code",
   "execution_count": 72,
   "metadata": {},
   "outputs": [
    {
     "name": "stdout",
     "output_type": "stream",
     "text": [
      "WARNING:tensorflow:Gradients do not exist for variables ['res_net_7/resnet_layer_13/residual_unit_20/batch_normalization_37/gamma:0', 'res_net_7/resnet_layer_13/residual_unit_20/batch_normalization_37/beta:0', 'res_net_7/resnet_layer_13/residual_unit_20/conv2d_53/kernel:0', 'res_net_7/resnet_layer_13/residual_unit_20/conv2d_53/bias:0', 'res_net_7/resnet_layer_13/residual_unit_21/batch_normalization_39/gamma:0', 'res_net_7/resnet_layer_13/residual_unit_21/batch_normalization_39/beta:0', 'res_net_7/resnet_layer_13/residual_unit_21/conv2d_56/kernel:0', 'res_net_7/resnet_layer_13/residual_unit_21/conv2d_56/bias:0', 'res_net_7/resnet_layer_14/residual_unit_22/batch_normalization_41/gamma:0', 'res_net_7/resnet_layer_14/residual_unit_22/batch_normalization_41/beta:0', 'res_net_7/resnet_layer_14/residual_unit_22/conv2d_58/kernel:0', 'res_net_7/resnet_layer_14/residual_unit_22/conv2d_58/bias:0', 'res_net_7/resnet_layer_14/residual_unit_23/batch_normalization_43/gamma:0', 'res_net_7/resnet_layer_14/residual_unit_23/batch_normalization_43/beta:0', 'res_net_7/resnet_layer_14/residual_unit_23/conv2d_61/kernel:0', 'res_net_7/resnet_layer_14/residual_unit_23/conv2d_61/bias:0', 'res_net_7/resnet_layer_15/residual_unit_24/batch_normalization_45/gamma:0', 'res_net_7/resnet_layer_15/residual_unit_24/batch_normalization_45/beta:0', 'res_net_7/resnet_layer_15/residual_unit_24/conv2d_63/kernel:0', 'res_net_7/resnet_layer_15/residual_unit_24/conv2d_63/bias:0', 'res_net_7/resnet_layer_15/residual_unit_25/batch_normalization_47/gamma:0', 'res_net_7/resnet_layer_15/residual_unit_25/batch_normalization_47/beta:0', 'res_net_7/resnet_layer_15/residual_unit_25/conv2d_66/kernel:0', 'res_net_7/resnet_layer_15/residual_unit_25/conv2d_66/bias:0'] when minimizing the loss. If you're using `model.compile()`, did you forget to provide a `loss`argument?\n",
      "WARNING:tensorflow:Gradients do not exist for variables ['res_net_7/resnet_layer_13/residual_unit_20/batch_normalization_37/gamma:0', 'res_net_7/resnet_layer_13/residual_unit_20/batch_normalization_37/beta:0', 'res_net_7/resnet_layer_13/residual_unit_20/conv2d_53/kernel:0', 'res_net_7/resnet_layer_13/residual_unit_20/conv2d_53/bias:0', 'res_net_7/resnet_layer_13/residual_unit_21/batch_normalization_39/gamma:0', 'res_net_7/resnet_layer_13/residual_unit_21/batch_normalization_39/beta:0', 'res_net_7/resnet_layer_13/residual_unit_21/conv2d_56/kernel:0', 'res_net_7/resnet_layer_13/residual_unit_21/conv2d_56/bias:0', 'res_net_7/resnet_layer_14/residual_unit_22/batch_normalization_41/gamma:0', 'res_net_7/resnet_layer_14/residual_unit_22/batch_normalization_41/beta:0', 'res_net_7/resnet_layer_14/residual_unit_22/conv2d_58/kernel:0', 'res_net_7/resnet_layer_14/residual_unit_22/conv2d_58/bias:0', 'res_net_7/resnet_layer_14/residual_unit_23/batch_normalization_43/gamma:0', 'res_net_7/resnet_layer_14/residual_unit_23/batch_normalization_43/beta:0', 'res_net_7/resnet_layer_14/residual_unit_23/conv2d_61/kernel:0', 'res_net_7/resnet_layer_14/residual_unit_23/conv2d_61/bias:0', 'res_net_7/resnet_layer_15/residual_unit_24/batch_normalization_45/gamma:0', 'res_net_7/resnet_layer_15/residual_unit_24/batch_normalization_45/beta:0', 'res_net_7/resnet_layer_15/residual_unit_24/conv2d_63/kernel:0', 'res_net_7/resnet_layer_15/residual_unit_24/conv2d_63/bias:0', 'res_net_7/resnet_layer_15/residual_unit_25/batch_normalization_47/gamma:0', 'res_net_7/resnet_layer_15/residual_unit_25/batch_normalization_47/beta:0', 'res_net_7/resnet_layer_15/residual_unit_25/conv2d_66/kernel:0', 'res_net_7/resnet_layer_15/residual_unit_25/conv2d_66/bias:0'] when minimizing the loss. If you're using `model.compile()`, did you forget to provide a `loss`argument?\n",
      "Epoch 1, Loss: 0.13887618482112885, Accuracy: 96.1066665649414, Test Loss: 0.07038386166095734, Test Accuracy: 97.80999755859375\n",
      "Epoch 2, Loss: 0.06780093908309937, Accuracy: 98.09833526611328, Test Loss: 0.09136906266212463, Test Accuracy: 97.53999328613281\n",
      "Epoch 3, Loss: 0.05299583449959755, Accuracy: 98.53666687011719, Test Loss: 0.07005127519369125, Test Accuracy: 97.87999725341797\n",
      "Epoch 4, Loss: 0.046431127935647964, Accuracy: 98.68999481201172, Test Loss: 0.037737950682640076, Test Accuracy: 98.88999938964844\n",
      "Epoch 5, Loss: 0.0376264862716198, Accuracy: 98.9366683959961, Test Loss: 0.05783146992325783, Test Accuracy: 98.77999877929688\n",
      "Epoch 6, Loss: 0.03450324758887291, Accuracy: 99.03666687011719, Test Loss: 0.0432741679251194, Test Accuracy: 98.98999786376953\n",
      "Epoch 7, Loss: 0.03242229297757149, Accuracy: 99.16666412353516, Test Loss: 0.05116993561387062, Test Accuracy: 98.81999969482422\n",
      "Epoch 8, Loss: 0.028636330738663673, Accuracy: 99.22333526611328, Test Loss: 0.07599908113479614, Test Accuracy: 98.45999908447266\n",
      "Epoch 9, Loss: 0.02588333562016487, Accuracy: 99.2933349609375, Test Loss: 0.07581588625907898, Test Accuracy: 98.65999603271484\n",
      "Epoch 10, Loss: 0.02637082152068615, Accuracy: 99.3116683959961, Test Loss: 0.05036346614360809, Test Accuracy: 98.93000030517578\n"
     ]
    }
   ],
   "source": [
    "for epoch in range(EPOCHS):\n",
    "    for images, labels in train_ds:\n",
    "        train_step(model, images, labels, loss_object, optimizer, train_loss, train_accuracy)\n",
    "\n",
    "    for test_images, test_labels in test_ds:\n",
    "        test_step(model, test_images, test_labels, loss_object, test_loss, test_accuracy)\n",
    "\n",
    "    template = 'Epoch {}, Loss: {}, Accuracy: {}, Test Loss: {}, Test Accuracy: {}'\n",
    "    print(template.format(epoch + 1,\n",
    "                          train_loss.result(),\n",
    "                          train_accuracy.result() * 100,\n",
    "                          test_loss.result(),\n",
    "                          test_accuracy.result() * 100))\n",
    "    train_loss.reset_states()\n",
    "    train_accuracy.reset_states()\n",
    "    test_loss.reset_states()\n",
    "    test_accuracy.reset_states()"
   ]
  }
 ],
 "metadata": {
  "kernelspec": {
   "display_name": "Python 3",
   "language": "python",
   "name": "python3"
  },
  "language_info": {
   "codemirror_mode": {
    "name": "ipython",
    "version": 3
   },
   "file_extension": ".py",
   "mimetype": "text/x-python",
   "name": "python",
   "nbconvert_exporter": "python",
   "pygments_lexer": "ipython3",
   "version": "3.8.8"
  }
 },
 "nbformat": 4,
 "nbformat_minor": 2
}
