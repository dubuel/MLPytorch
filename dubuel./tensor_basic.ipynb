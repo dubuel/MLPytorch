{
  "nbformat": 4,
  "nbformat_minor": 0,
  "metadata": {
    "colab": {
      "name": "dubuel./tensor_basic.ipynb",
      "provenance": [],
      "collapsed_sections": [],
      "authorship_tag": "ABX9TyNKXBPZQU7IX/K+fuXrdBiE",
      "include_colab_link": true
    },
    "kernelspec": {
      "name": "python3",
      "display_name": "Python 3"
    },
    "language_info": {
      "name": "python"
    }
  },
  "cells": [
    {
      "cell_type": "markdown",
      "metadata": {
        "id": "view-in-github",
        "colab_type": "text"
      },
      "source": [
        "<a href=\"https://colab.research.google.com/github/dubuel/MLPytorch/blob/main/dubuel./tensor_basic.ipynb\" target=\"_parent\"><img src=\"https://colab.research.google.com/assets/colab-badge.svg\" alt=\"Open In Colab\"/></a>"
      ]
    },
    {
      "cell_type": "code",
      "execution_count": 2,
      "metadata": {
        "id": "ZXsXkrI6FzlM"
      },
      "outputs": [],
      "source": [
        "import tensorflow as tf\n",
        "from tensorflow import keras"
      ]
    },
    {
      "cell_type": "code",
      "source": [
        "import numpy as np\n",
        "import matplotlib.pyplot as plt"
      ],
      "metadata": {
        "id": "E5uIbhPmIphD"
      },
      "execution_count": 3,
      "outputs": []
    },
    {
      "cell_type": "code",
      "source": [
        "mnist = keras.datasets.mnist\n",
        "\n",
        "(x_train, y_train) , (x_test, y_test) = mnist.load_data()\n",
        "x_train, x_test = x_train /255.0, x_test/ 255.0"
      ],
      "metadata": {
        "id": "XZxgFdpuNLYC"
      },
      "execution_count": null,
      "outputs": []
    },
    {
      "cell_type": "code",
      "source": [
        "hello = tf.constant([3,3],dtype = tf.float64)\n",
        "print(hello)"
      ],
      "metadata": {
        "colab": {
          "base_uri": "https://localhost:8080/"
        },
        "id": "whGr8gesNo52",
        "outputId": "a6bcc0fe-df97-4a78-ede7-7a4c10bc314c"
      },
      "execution_count": null,
      "outputs": [
        {
          "output_type": "stream",
          "name": "stdout",
          "text": [
            "tf.Tensor([3. 3.], shape=(2,), dtype=float64)\n"
          ]
        }
      ]
    },
    {
      "cell_type": "code",
      "source": [
        "#tf.constant를 활용하여 상수형 tensor 생성가능"
      ],
      "metadata": {
        "id": "kPn4r-cvPRHw"
      },
      "execution_count": null,
      "outputs": []
    },
    {
      "cell_type": "code",
      "source": [
        "x = tf.constant(([1,2],[3,4]))\n",
        "print(x)\n",
        "print(type(x))"
      ],
      "metadata": {
        "colab": {
          "base_uri": "https://localhost:8080/"
        },
        "id": "U4QduXqyP1Gn",
        "outputId": "cb92e58e-10a1-4324-b5d7-16f3863e9651"
      },
      "execution_count": null,
      "outputs": [
        {
          "output_type": "stream",
          "name": "stdout",
          "text": [
            "tf.Tensor(\n",
            "[[1 2]\n",
            " [3 4]], shape=(2, 2), dtype=int32)\n",
            "<class 'tensorflow.python.framework.ops.EagerTensor'>\n"
          ]
        }
      ]
    },
    {
      "cell_type": "code",
      "source": [
        "a = tf.ones((3,3))\n",
        "b = tf.zeros((2,3))\n",
        "c = tf.fill((2,3),2)\n",
        "print(a)\n",
        "print(b)\n",
        "print(c)"
      ],
      "metadata": {
        "colab": {
          "base_uri": "https://localhost:8080/"
        },
        "id": "lAI8FMjcQBJU",
        "outputId": "b7d4e292-4cc1-4df9-834a-00d4698d8bd5"
      },
      "execution_count": null,
      "outputs": [
        {
          "output_type": "stream",
          "name": "stdout",
          "text": [
            "tf.Tensor(\n",
            "[[1. 1. 1.]\n",
            " [1. 1. 1.]\n",
            " [1. 1. 1.]], shape=(3, 3), dtype=float32)\n",
            "tf.Tensor(\n",
            "[[0. 0. 0.]\n",
            " [0. 0. 0.]], shape=(2, 3), dtype=float32)\n",
            "tf.Tensor(\n",
            "[[2 2 2]\n",
            " [2 2 2]], shape=(2, 3), dtype=int32)\n"
          ]
        }
      ]
    },
    {
      "cell_type": "code",
      "source": [
        "d = tf.zeros_like(c)\n",
        "e = tf.ones_like(c)\n",
        "print(d)\n",
        "print(e)"
      ],
      "metadata": {
        "colab": {
          "base_uri": "https://localhost:8080/"
        },
        "id": "D_TWsJRDVadI",
        "outputId": "7f9cc632-f1f4-4d38-edfa-120aaa7ab65a"
      },
      "execution_count": null,
      "outputs": [
        {
          "output_type": "stream",
          "name": "stdout",
          "text": [
            "tf.Tensor(\n",
            "[[0 0 0]\n",
            " [0 0 0]], shape=(2, 3), dtype=int32)\n",
            "tf.Tensor(\n",
            "[[1 1 1]\n",
            " [1 1 1]], shape=(2, 3), dtype=int32)\n"
          ]
        }
      ]
    },
    {
      "cell_type": "code",
      "source": [
        "f = tf.eye(3)\n",
        "print(f)"
      ],
      "metadata": {
        "colab": {
          "base_uri": "https://localhost:8080/"
        },
        "id": "vMaAYAEvVl-d",
        "outputId": "de0a4367-bdbd-4ac8-cbbd-ba298e6309ce"
      },
      "execution_count": null,
      "outputs": [
        {
          "output_type": "stream",
          "name": "stdout",
          "text": [
            "tf.Tensor(\n",
            "[[1. 0. 0.]\n",
            " [0. 1. 0.]\n",
            " [0. 0. 1.]], shape=(3, 3), dtype=float32)\n"
          ]
        }
      ]
    },
    {
      "cell_type": "code",
      "source": [
        "g = tf.range(10)\n",
        "print(g)"
      ],
      "metadata": {
        "colab": {
          "base_uri": "https://localhost:8080/"
        },
        "id": "V3gaC0UfV4Js",
        "outputId": "459dd10e-7bb1-494a-b945-96d155c68fc5"
      },
      "execution_count": null,
      "outputs": [
        {
          "output_type": "stream",
          "name": "stdout",
          "text": [
            "tf.Tensor([0 1 2 3 4 5 6 7 8 9], shape=(10,), dtype=int32)\n"
          ]
        }
      ]
    },
    {
      "cell_type": "code",
      "source": [
        "h = tf.random.uniform((2,2)) #np.rand\n",
        "i = tf.random.normal((2,2)) #np.randn\n",
        "print(h)\n",
        "print(i)"
      ],
      "metadata": {
        "colab": {
          "base_uri": "https://localhost:8080/"
        },
        "id": "ecaOjIfuWIqS",
        "outputId": "71210fcb-f5fb-4f15-e0aa-3862f0ddd115"
      },
      "execution_count": null,
      "outputs": [
        {
          "output_type": "stream",
          "name": "stdout",
          "text": [
            "tf.Tensor(\n",
            "[[0.6119149  0.59872353]\n",
            " [0.74145436 0.92799723]], shape=(2, 2), dtype=float32)\n",
            "tf.Tensor(\n",
            "[[-0.21650255  0.06280637]\n",
            " [ 1.7444043   0.09064346]], shape=(2, 2), dtype=float32)\n"
          ]
        }
      ]
    },
    {
      "cell_type": "code",
      "source": [
        "tensor = tf.random.normal((3,4))"
      ],
      "metadata": {
        "id": "H-Sf-JC3Xbgz"
      },
      "execution_count": null,
      "outputs": []
    },
    {
      "cell_type": "code",
      "source": [
        "print(tensor.shape)\n",
        "print(tensor.dtype)\n",
        "print(tensor)"
      ],
      "metadata": {
        "colab": {
          "base_uri": "https://localhost:8080/"
        },
        "id": "FMdzwNwlX8ho",
        "outputId": "746633a7-786d-4294-c56d-d00d784ec3b9"
      },
      "execution_count": null,
      "outputs": [
        {
          "output_type": "stream",
          "name": "stdout",
          "text": [
            "(3, 4)\n",
            "<dtype: 'float32'>\n",
            "tf.Tensor(\n",
            "[[ 0.41460854 -1.0526108   1.006817    0.89333415]\n",
            " [ 0.48988506 -0.45917648  0.57938373 -1.0706774 ]\n",
            " [-0.61442155  0.1148587   0.425296   -0.41453618]], shape=(3, 4), dtype=float32)\n"
          ]
        }
      ]
    },
    {
      "cell_type": "code",
      "source": [
        "tensor = tf.reshape(tensor,(4,3))\n",
        "tensor = tf.cast(tensor,tf.int32)\n",
        "print(tensor)"
      ],
      "metadata": {
        "colab": {
          "base_uri": "https://localhost:8080/"
        },
        "id": "ljJ-vPyAYDB7",
        "outputId": "f4e49cf5-e10b-4b22-a012-98f75d46d6ad"
      },
      "execution_count": null,
      "outputs": [
        {
          "output_type": "stream",
          "name": "stdout",
          "text": [
            "tf.Tensor(\n",
            "[[ 0 -1  1]\n",
            " [ 0  0  0]\n",
            " [ 0 -1  0]\n",
            " [ 0  0  0]], shape=(4, 3), dtype=int32)\n"
          ]
        }
      ]
    },
    {
      "cell_type": "code",
      "source": [
        "tensor = tf.ones((3,3))\n",
        "print(tensor)"
      ],
      "metadata": {
        "colab": {
          "base_uri": "https://localhost:8080/",
          "height": 193
        },
        "id": "65HMX6-aacyy",
        "outputId": "2bdad887-b5f9-4a82-b7c3-7c6475b5123f"
      },
      "execution_count": null,
      "outputs": [
        {
          "output_type": "error",
          "ename": "NameError",
          "evalue": "ignored",
          "traceback": [
            "\u001b[0;31m---------------------------------------------------------------------------\u001b[0m",
            "\u001b[0;31mNameError\u001b[0m                                 Traceback (most recent call last)",
            "\u001b[0;32m<ipython-input-5-491afed9684b>\u001b[0m in \u001b[0;36m<module>\u001b[0;34m()\u001b[0m\n\u001b[1;32m      1\u001b[0m \u001b[0mtensor\u001b[0m \u001b[0;34m=\u001b[0m \u001b[0mtf\u001b[0m\u001b[0;34m.\u001b[0m\u001b[0mones\u001b[0m\u001b[0;34m(\u001b[0m\u001b[0;34m(\u001b[0m\u001b[0;36m3\u001b[0m\u001b[0;34m,\u001b[0m\u001b[0;36m3\u001b[0m\u001b[0;34m)\u001b[0m\u001b[0;34m)\u001b[0m\u001b[0;34m\u001b[0m\u001b[0;34m\u001b[0m\u001b[0m\n\u001b[0;32m----> 2\u001b[0;31m \u001b[0mprint\u001b[0m\u001b[0;34m(\u001b[0m\u001b[0mtensor1\u001b[0m\u001b[0;34m)\u001b[0m\u001b[0;34m\u001b[0m\u001b[0;34m\u001b[0m\u001b[0m\n\u001b[0m",
            "\u001b[0;31mNameError\u001b[0m: name 'tensor1' is not defined"
          ]
        }
      ]
    },
    {
      "cell_type": "code",
      "source": [
        "variable = tf.Variable(tensor)\n",
        "print(variable)\n",
        "\n",
        "variable[0,0].assign(2)\n",
        "print(variable)"
      ],
      "metadata": {
        "colab": {
          "base_uri": "https://localhost:8080/"
        },
        "id": "1vgo9np5Ye23",
        "outputId": "041c3c68-1bc8-4cf0-b731-2cc8e901117b"
      },
      "execution_count": null,
      "outputs": [
        {
          "output_type": "stream",
          "name": "stdout",
          "text": [
            "<tf.Variable 'Variable:0' shape=(3, 3) dtype=float32, numpy=\n",
            "array([[1., 1., 1.],\n",
            "       [1., 1., 1.],\n",
            "       [1., 1., 1.]], dtype=float32)>\n",
            "<tf.Variable 'Variable:0' shape=(3, 3) dtype=float32, numpy=\n",
            "array([[2., 1., 1.],\n",
            "       [1., 1., 1.],\n",
            "       [1., 1., 1.]], dtype=float32)>\n"
          ]
        }
      ]
    },
    {
      "cell_type": "code",
      "source": [
        "z = tf.range(1,11)\n",
        "z = tf.reshape(z,(2,5))\n",
        "print(z)"
      ],
      "metadata": {
        "id": "i0KLbR3ZacGx",
        "colab": {
          "base_uri": "https://localhost:8080/"
        },
        "outputId": "dbe348c3-2c40-4cb0-fcfd-9c0d9915136c"
      },
      "execution_count": 5,
      "outputs": [
        {
          "output_type": "stream",
          "name": "stdout",
          "text": [
            "tf.Tensor(\n",
            "[[ 1  2  3  4  5]\n",
            " [ 6  7  8  9 10]], shape=(2, 5), dtype=int32)\n"
          ]
        }
      ]
    },
    {
      "cell_type": "code",
      "source": [
        "print(tf.reduce_sum(z))"
      ],
      "metadata": {
        "id": "NAE-qtO0abth",
        "colab": {
          "base_uri": "https://localhost:8080/"
        },
        "outputId": "5751c3a3-3797-40d5-c605-09e24aeb3602"
      },
      "execution_count": 9,
      "outputs": [
        {
          "output_type": "stream",
          "name": "stdout",
          "text": [
            "tf.Tensor(55, shape=(), dtype=int32)\n"
          ]
        }
      ]
    },
    {
      "cell_type": "code",
      "source": [
        "print(tf.reduce_sum(z, axis=0))\n",
        "print(tf.reduce_sum(z, axis=1))\n",
        "print(tf.reduce_sum(z, axis=-1))"
      ],
      "metadata": {
        "id": "hfAZLQXOaV9H",
        "colab": {
          "base_uri": "https://localhost:8080/"
        },
        "outputId": "a8d6ddb3-7e6b-40d0-c78a-eadd8681ab8b"
      },
      "execution_count": 13,
      "outputs": [
        {
          "output_type": "stream",
          "name": "stdout",
          "text": [
            "tf.Tensor([ 7  9 11 13 15], shape=(5,), dtype=int32)\n",
            "tf.Tensor([15 40], shape=(2,), dtype=int32)\n",
            "tf.Tensor([15 40], shape=(2,), dtype=int32)\n"
          ]
        }
      ]
    },
    {
      "cell_type": "code",
      "source": [
        ""
      ],
      "metadata": {
        "id": "kRREIk5YaYSm"
      },
      "execution_count": 13,
      "outputs": []
    }
  ]
}