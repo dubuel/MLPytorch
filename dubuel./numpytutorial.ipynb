{
  "nbformat": 4,
  "nbformat_minor": 0,
  "metadata": {
    "colab": {
      "name": "numpytutorial",
      "provenance": [],
      "collapsed_sections": [],
      "authorship_tag": "ABX9TyMdVYGAhVbWcHuaGPJ4CZJC",
      "include_colab_link": true
    },
    "kernelspec": {
      "name": "python3",
      "display_name": "Python 3"
    },
    "language_info": {
      "name": "python"
    }
  },
  "cells": [
    {
      "cell_type": "markdown",
      "metadata": {
        "id": "view-in-github",
        "colab_type": "text"
      },
      "source": [
        "<a href=\"https://colab.research.google.com/github/dubuel/MLPytorch/blob/main/dubuel./numpytutorial.ipynb\" target=\"_parent\"><img src=\"https://colab.research.google.com/assets/colab-badge.svg\" alt=\"Open In Colab\"/></a>"
      ]
    },
    {
      "cell_type": "code",
      "execution_count": 108,
      "metadata": {
        "id": "gdq_2bxkSW1K"
      },
      "outputs": [],
      "source": [
        "import numpy as np"
      ]
    },
    {
      "cell_type": "code",
      "source": [
        "a= np.array([1,2,3])\n",
        "print(a)"
      ],
      "metadata": {
        "colab": {
          "base_uri": "https://localhost:8080/"
        },
        "id": "2-eKc5wnaTA8",
        "outputId": "3e87d3f0-fbfa-4eed-ae20-a083bf003e94"
      },
      "execution_count": null,
      "outputs": [
        {
          "output_type": "stream",
          "name": "stdout",
          "text": [
            "[1 2 3]\n"
          ]
        }
      ]
    },
    {
      "cell_type": "code",
      "source": [
        "a = np.append(a, 4)"
      ],
      "metadata": {
        "id": "D5t90Mauamud"
      },
      "execution_count": null,
      "outputs": []
    },
    {
      "cell_type": "code",
      "source": [
        "print(a)"
      ],
      "metadata": {
        "colab": {
          "base_uri": "https://localhost:8080/"
        },
        "id": "-k69owf5arhW",
        "outputId": "e5e0a5ea-2430-44fa-9fc8-ae0b322359e1"
      },
      "execution_count": null,
      "outputs": [
        {
          "output_type": "stream",
          "name": "stdout",
          "text": [
            "[1 2 3 4]\n"
          ]
        }
      ]
    },
    {
      "cell_type": "code",
      "source": [
        "b = np.append(a,5)"
      ],
      "metadata": {
        "id": "v2qNtxuUaylB"
      },
      "execution_count": null,
      "outputs": []
    },
    {
      "cell_type": "code",
      "source": [
        "print(a,b)"
      ],
      "metadata": {
        "colab": {
          "base_uri": "https://localhost:8080/"
        },
        "id": "NstX9Jqva1Hy",
        "outputId": "90043783-98ae-4460-8648-0f8c611e8389"
      },
      "execution_count": null,
      "outputs": [
        {
          "output_type": "stream",
          "name": "stdout",
          "text": [
            "[1 2 3 4] [1 2 3 4 5]\n"
          ]
        }
      ]
    },
    {
      "cell_type": "code",
      "source": [
        "a = np.random.rand(2,2)\n",
        "print(a)"
      ],
      "metadata": {
        "colab": {
          "base_uri": "https://localhost:8080/"
        },
        "id": "LXsithsaa2AC",
        "outputId": "2252769c-c0e4-4f20-b2d3-a7d376868f60"
      },
      "execution_count": null,
      "outputs": [
        {
          "output_type": "stream",
          "name": "stdout",
          "text": [
            "[[0.94300673 0.20369791]\n",
            " [0.69290421 0.29672031]]\n"
          ]
        }
      ]
    },
    {
      "cell_type": "code",
      "source": [
        "b = np.random.randn(2,2)\n",
        "print(b)"
      ],
      "metadata": {
        "colab": {
          "base_uri": "https://localhost:8080/"
        },
        "id": "yvpdRGGEeBf1",
        "outputId": "55bdd10f-a621-4d0b-a202-6201088f31a0"
      },
      "execution_count": null,
      "outputs": [
        {
          "output_type": "stream",
          "name": "stdout",
          "text": [
            "[[ 0.53896373 -0.86871124]\n",
            " [-0.73120675 -0.07453256]]\n"
          ]
        }
      ]
    },
    {
      "cell_type": "code",
      "source": [
        "b = np.arange(1,13)\n",
        "print(b)\n",
        "print(b.shape)\n",
        "print(b.ndim)"
      ],
      "metadata": {
        "id": "Z38kNPvIeOga",
        "colab": {
          "base_uri": "https://localhost:8080/"
        },
        "outputId": "44247801-c34c-46f2-e642-84d61c76264a"
      },
      "execution_count": null,
      "outputs": [
        {
          "output_type": "stream",
          "name": "stdout",
          "text": [
            "[ 1  2  3  4  5  6  7  8  9 10 11 12]\n",
            "(12,)\n",
            "1\n"
          ]
        }
      ]
    },
    {
      "cell_type": "code",
      "source": [
        "b = b.reshape(3,-1)\n",
        "print(b)\n",
        "print(b.shape)\n",
        "print(b.ndim)"
      ],
      "metadata": {
        "colab": {
          "base_uri": "https://localhost:8080/"
        },
        "id": "TwzqJEemwhNU",
        "outputId": "542a47ca-55fa-4ffa-bd0f-b68f5effbeb2"
      },
      "execution_count": null,
      "outputs": [
        {
          "output_type": "stream",
          "name": "stdout",
          "text": [
            "[[ 1  2  3  4]\n",
            " [ 5  6  7  8]\n",
            " [ 9 10 11 12]]\n",
            "(3, 4)\n",
            "2\n"
          ]
        }
      ]
    },
    {
      "cell_type": "code",
      "source": [
        "row_r1 = b[1,:]\n",
        "row_r2 = b[1:2,:]\n",
        "print(row_r1, row_r1.shape, row_r1.ndim)\n",
        "print(row_r2, row_r2.shape, row_r2.ndim)"
      ],
      "metadata": {
        "colab": {
          "base_uri": "https://localhost:8080/"
        },
        "id": "CLis5Mz0wrhB",
        "outputId": "dc5d5ab8-6f90-400b-baea-4e8d9871b54f"
      },
      "execution_count": null,
      "outputs": [
        {
          "output_type": "stream",
          "name": "stdout",
          "text": [
            "[5 6 7 8] (4,) 1\n",
            "[[5 6 7 8]] (1, 4) 2\n"
          ]
        }
      ]
    },
    {
      "cell_type": "code",
      "source": [
        "c = np.arange(24).reshape(2,3,-1)\n",
        "print(c)\n",
        "print(c.shape)"
      ],
      "metadata": {
        "colab": {
          "base_uri": "https://localhost:8080/"
        },
        "id": "ICFLZ2BNxN4P",
        "outputId": "8598eb6e-95f3-4c9b-e9cc-2823bc30a3c9"
      },
      "execution_count": null,
      "outputs": [
        {
          "output_type": "stream",
          "name": "stdout",
          "text": [
            "[[[ 0  1  2  3]\n",
            "  [ 4  5  6  7]\n",
            "  [ 8  9 10 11]]\n",
            "\n",
            " [[12 13 14 15]\n",
            "  [16 17 18 19]\n",
            "  [20 21 22 23]]]\n",
            "(2, 3, 4)\n"
          ]
        }
      ]
    },
    {
      "cell_type": "code",
      "source": [
        "print(c[:,:,:1])\n",
        "print(c[...,:1])"
      ],
      "metadata": {
        "colab": {
          "base_uri": "https://localhost:8080/"
        },
        "id": "TCqpRGqnxqYK",
        "outputId": "73101a01-970a-47f2-aba8-3a4fb8416fa9"
      },
      "execution_count": null,
      "outputs": [
        {
          "output_type": "stream",
          "name": "stdout",
          "text": [
            "[[[ 0]\n",
            "  [ 4]\n",
            "  [ 8]]\n",
            "\n",
            " [[12]\n",
            "  [16]\n",
            "  [20]]]\n",
            "[[[ 0]\n",
            "  [ 4]\n",
            "  [ 8]]\n",
            "\n",
            " [[12]\n",
            "  [16]\n",
            "  [20]]]\n"
          ]
        }
      ]
    },
    {
      "cell_type": "code",
      "source": [
        "print(c[0:1,2])"
      ],
      "metadata": {
        "colab": {
          "base_uri": "https://localhost:8080/"
        },
        "id": "Lrvh4WPkx18F",
        "outputId": "29a54b04-93b0-4206-c82c-197a13dd9752"
      },
      "execution_count": null,
      "outputs": [
        {
          "output_type": "stream",
          "name": "stdout",
          "text": [
            "[[ 8  9 10 11]]\n"
          ]
        }
      ]
    },
    {
      "cell_type": "code",
      "source": [
        "bool_idx = (c>10)\n",
        "print(bool_idx)"
      ],
      "metadata": {
        "colab": {
          "base_uri": "https://localhost:8080/"
        },
        "id": "ZcSSYuJUyPyo",
        "outputId": "4a30c72a-3e31-4f3b-97c2-811571bd8c85"
      },
      "execution_count": null,
      "outputs": [
        {
          "output_type": "stream",
          "name": "stdout",
          "text": [
            "[[[False False False False]\n",
            "  [False False False False]\n",
            "  [False False False  True]]\n",
            "\n",
            " [[ True  True  True  True]\n",
            "  [ True  True  True  True]\n",
            "  [ True  True  True  True]]]\n"
          ]
        }
      ]
    },
    {
      "cell_type": "code",
      "source": [
        "c[c>10] = -3\n",
        "print(c)"
      ],
      "metadata": {
        "colab": {
          "base_uri": "https://localhost:8080/"
        },
        "id": "DWKfL6GhzN8L",
        "outputId": "77b26c74-4e95-4692-c1f5-1128e7d8f80e"
      },
      "execution_count": null,
      "outputs": [
        {
          "output_type": "stream",
          "name": "stdout",
          "text": [
            "[[[ 0  1  2  3]\n",
            "  [ 4  5  6  7]\n",
            "  [ 8  9 10 -3]]\n",
            "\n",
            " [[-3 -3 -3 -3]\n",
            "  [-3 -3 -3 -3]\n",
            "  [-3 -3 -3 -3]]]\n"
          ]
        }
      ]
    },
    {
      "cell_type": "code",
      "source": [
        "d = np.arange(24).reshape(4,3,-1)\n",
        "h = np.arange(6).reshape(6,-1)\n",
        "print(d, d.shape)"
      ],
      "metadata": {
        "colab": {
          "base_uri": "https://localhost:8080/"
        },
        "id": "piOv57QgzZln",
        "outputId": "87d1e23f-9454-42f4-87e2-0fdce18ce7f6"
      },
      "execution_count": null,
      "outputs": [
        {
          "output_type": "stream",
          "name": "stdout",
          "text": [
            "[[[ 0  1]\n",
            "  [ 2  3]\n",
            "  [ 4  5]]\n",
            "\n",
            " [[ 6  7]\n",
            "  [ 8  9]\n",
            "  [10 11]]\n",
            "\n",
            " [[12 13]\n",
            "  [14 15]\n",
            "  [16 17]]\n",
            "\n",
            " [[18 19]\n",
            "  [20 21]\n",
            "  [22 23]]] (4, 3, 2)\n"
          ]
        }
      ]
    },
    {
      "cell_type": "code",
      "source": [
        "d = np.hstack((d,d,d,d))\n",
        "print(d, d.shape)"
      ],
      "metadata": {
        "colab": {
          "base_uri": "https://localhost:8080/"
        },
        "id": "Z6bJ81jN0EMQ",
        "outputId": "28977c63-bf8b-4356-a1aa-ffefac000ab5"
      },
      "execution_count": null,
      "outputs": [
        {
          "output_type": "stream",
          "name": "stdout",
          "text": [
            "[[[ 0  1]\n",
            "  [ 2  3]\n",
            "  [ 4  5]\n",
            "  [ 0  1]\n",
            "  [ 2  3]\n",
            "  [ 4  5]\n",
            "  [ 0  1]\n",
            "  [ 2  3]\n",
            "  [ 4  5]\n",
            "  [ 0  1]\n",
            "  [ 2  3]\n",
            "  [ 4  5]]\n",
            "\n",
            " [[ 6  7]\n",
            "  [ 8  9]\n",
            "  [10 11]\n",
            "  [ 6  7]\n",
            "  [ 8  9]\n",
            "  [10 11]\n",
            "  [ 6  7]\n",
            "  [ 8  9]\n",
            "  [10 11]\n",
            "  [ 6  7]\n",
            "  [ 8  9]\n",
            "  [10 11]]\n",
            "\n",
            " [[12 13]\n",
            "  [14 15]\n",
            "  [16 17]\n",
            "  [12 13]\n",
            "  [14 15]\n",
            "  [16 17]\n",
            "  [12 13]\n",
            "  [14 15]\n",
            "  [16 17]\n",
            "  [12 13]\n",
            "  [14 15]\n",
            "  [16 17]]\n",
            "\n",
            " [[18 19]\n",
            "  [20 21]\n",
            "  [22 23]\n",
            "  [18 19]\n",
            "  [20 21]\n",
            "  [22 23]\n",
            "  [18 19]\n",
            "  [20 21]\n",
            "  [22 23]\n",
            "  [18 19]\n",
            "  [20 21]\n",
            "  [22 23]]] (4, 12, 2)\n"
          ]
        }
      ]
    },
    {
      "cell_type": "code",
      "source": [
        "print(d[[3,2,1,0]])"
      ],
      "metadata": {
        "colab": {
          "base_uri": "https://localhost:8080/"
        },
        "id": "1Tp0KEnp0V4g",
        "outputId": "44c201df-2435-41cf-80b8-50fa115c1f55"
      },
      "execution_count": null,
      "outputs": [
        {
          "output_type": "stream",
          "name": "stdout",
          "text": [
            "[[[18 19]\n",
            "  [20 21]\n",
            "  [22 23]\n",
            "  [18 19]\n",
            "  [20 21]\n",
            "  [22 23]\n",
            "  [18 19]\n",
            "  [20 21]\n",
            "  [22 23]\n",
            "  [18 19]\n",
            "  [20 21]\n",
            "  [22 23]]\n",
            "\n",
            " [[12 13]\n",
            "  [14 15]\n",
            "  [16 17]\n",
            "  [12 13]\n",
            "  [14 15]\n",
            "  [16 17]\n",
            "  [12 13]\n",
            "  [14 15]\n",
            "  [16 17]\n",
            "  [12 13]\n",
            "  [14 15]\n",
            "  [16 17]]\n",
            "\n",
            " [[ 6  7]\n",
            "  [ 8  9]\n",
            "  [10 11]\n",
            "  [ 6  7]\n",
            "  [ 8  9]\n",
            "  [10 11]\n",
            "  [ 6  7]\n",
            "  [ 8  9]\n",
            "  [10 11]\n",
            "  [ 6  7]\n",
            "  [ 8  9]\n",
            "  [10 11]]\n",
            "\n",
            " [[ 0  1]\n",
            "  [ 2  3]\n",
            "  [ 4  5]\n",
            "  [ 0  1]\n",
            "  [ 2  3]\n",
            "  [ 4  5]\n",
            "  [ 0  1]\n",
            "  [ 2  3]\n",
            "  [ 4  5]\n",
            "  [ 0  1]\n",
            "  [ 2  3]\n",
            "  [ 4  5]]]\n"
          ]
        }
      ]
    },
    {
      "cell_type": "code",
      "source": [
        "e = np.arange(32).reshape(8,4)\n",
        "print(e, e.shape)"
      ],
      "metadata": {
        "colab": {
          "base_uri": "https://localhost:8080/"
        },
        "id": "WnrK1BJs1CwK",
        "outputId": "8c274ece-a9c1-4c67-9072-8ce9a17c987f"
      },
      "execution_count": 97,
      "outputs": [
        {
          "output_type": "stream",
          "name": "stdout",
          "text": [
            "[[ 0  1  2  3]\n",
            " [ 4  5  6  7]\n",
            " [ 8  9 10 11]\n",
            " [12 13 14 15]\n",
            " [16 17 18 19]\n",
            " [20 21 22 23]\n",
            " [24 25 26 27]\n",
            " [28 29 30 31]] (8, 4)\n"
          ]
        }
      ]
    },
    {
      "cell_type": "code",
      "source": [
        "print(e[[1,5,7,2]])"
      ],
      "metadata": {
        "colab": {
          "base_uri": "https://localhost:8080/"
        },
        "id": "-K1s04M72wX2",
        "outputId": "560dcd68-3233-4459-c036-57abcb271593"
      },
      "execution_count": 103,
      "outputs": [
        {
          "output_type": "stream",
          "name": "stdout",
          "text": [
            "[[ 4  5  6  7]\n",
            " [20 21 22 23]\n",
            " [28 29 30 31]\n",
            " [ 8  9 10 11]]\n"
          ]
        }
      ]
    },
    {
      "cell_type": "code",
      "source": [
        "print(e[[1],[1]])"
      ],
      "metadata": {
        "colab": {
          "base_uri": "https://localhost:8080/"
        },
        "id": "wJCm43BR23eA",
        "outputId": "f4be0421-01c5-4b35-8ae2-0cb0461cce38"
      },
      "execution_count": 107,
      "outputs": [
        {
          "output_type": "stream",
          "name": "stdout",
          "text": [
            "[5]\n"
          ]
        }
      ]
    },
    {
      "cell_type": "code",
      "source": [
        ""
      ],
      "metadata": {
        "id": "dk8r1Xcm6nRZ"
      },
      "execution_count": null,
      "outputs": []
    },
    {
      "cell_type": "code",
      "source": [
        "print(e[[1,5,7,2]][:, [0,3,1,2]])"
      ],
      "metadata": {
        "colab": {
          "base_uri": "https://localhost:8080/"
        },
        "id": "_tKWxw2x3N7R",
        "outputId": "c63d3a7d-ee22-4389-91f7-8ac019ee38be"
      },
      "execution_count": null,
      "outputs": [
        {
          "output_type": "stream",
          "name": "stdout",
          "text": [
            "[[ 4  7  5  6]\n",
            " [20 23 21 22]\n",
            " [28 31 29 30]\n",
            " [ 8 11  9 10]]\n"
          ]
        }
      ]
    },
    {
      "cell_type": "code",
      "source": [
        "f = np.arange(16).reshape(4,4)\n",
        "print(f, f.shape)"
      ],
      "metadata": {
        "colab": {
          "base_uri": "https://localhost:8080/"
        },
        "id": "2S3rWJSv3tOd",
        "outputId": "5d3ad827-9ba4-4b19-8abf-e0a810a94872"
      },
      "execution_count": null,
      "outputs": [
        {
          "output_type": "stream",
          "name": "stdout",
          "text": [
            "[[ 0  1  2  3]\n",
            " [ 4  5  6  7]\n",
            " [ 8  9 10 11]\n",
            " [12 13 14 15]] (4, 4)\n"
          ]
        }
      ]
    },
    {
      "cell_type": "code",
      "source": [
        "print(f.transpose(1,0))"
      ],
      "metadata": {
        "colab": {
          "base_uri": "https://localhost:8080/"
        },
        "id": "-HWbae1m4fOO",
        "outputId": "2c93772e-4165-4709-8af0-fb0478871029"
      },
      "execution_count": null,
      "outputs": [
        {
          "output_type": "stream",
          "name": "stdout",
          "text": [
            "[[ 0  4  8 12]\n",
            " [ 1  5  9 13]\n",
            " [ 2  6 10 14]\n",
            " [ 3  7 11 15]]\n"
          ]
        }
      ]
    },
    {
      "cell_type": "code",
      "source": [
        "z = np.arange(1,11).reshape(2,-1)\n",
        "print(z, z.shape)"
      ],
      "metadata": {
        "id": "JBZuVBaT5Vmn",
        "colab": {
          "base_uri": "https://localhost:8080/"
        },
        "outputId": "1cbb0db3-f933-4b7d-9bce-b78df3818ffe"
      },
      "execution_count": 112,
      "outputs": [
        {
          "output_type": "stream",
          "name": "stdout",
          "text": [
            "[[ 1  2  3  4  5]\n",
            " [ 6  7  8  9 10]] (2, 5)\n"
          ]
        }
      ]
    },
    {
      "cell_type": "code",
      "source": [
        "sum1 = np.sum(z, axis = 0)\n",
        "sum2 = np.sum(z, axis =1)\n",
        "print(sum1)\n",
        "print(sum2)"
      ],
      "metadata": {
        "id": "HAwyWhJp5iPF",
        "colab": {
          "base_uri": "https://localhost:8080/"
        },
        "outputId": "978493b2-f671-4a28-8fa1-1d03af8faa18"
      },
      "execution_count": 111,
      "outputs": [
        {
          "output_type": "stream",
          "name": "stdout",
          "text": [
            "[ 7  9 11 13 15]\n",
            "[15 40]\n"
          ]
        }
      ]
    },
    {
      "cell_type": "markdown",
      "source": [
        "Broadcasting"
      ],
      "metadata": {
        "id": "DBcb56FnL-T5"
      }
    },
    {
      "cell_type": "code",
      "source": [
        "x = np.array([1,2,3]).reshape(1,3)\n",
        "y = np.array([4,5]).reshape(1,2)\n",
        "print(x, x.shape)\n",
        "print(y, y.shape)"
      ],
      "metadata": {
        "colab": {
          "base_uri": "https://localhost:8080/"
        },
        "id": "Q6NQyeoyN3h6",
        "outputId": "1d6f55bb-5bd1-4925-cb46-b20f344d2b59"
      },
      "execution_count": 113,
      "outputs": [
        {
          "output_type": "stream",
          "name": "stdout",
          "text": [
            "[[1 2 3]] (1, 3)\n",
            "[[4 5]] (1, 2)\n"
          ]
        }
      ]
    },
    {
      "cell_type": "code",
      "source": [
        "print(x+y)"
      ],
      "metadata": {
        "id": "BFffRjuAOYow"
      },
      "execution_count": null,
      "outputs": []
    },
    {
      "cell_type": "code",
      "source": [
        "y = y.transpose(1,0)\n",
        "print(y, y.shape)"
      ],
      "metadata": {
        "colab": {
          "base_uri": "https://localhost:8080/"
        },
        "id": "kPBVrgpHOaLA",
        "outputId": "79b94eb6-9691-4ee1-ee18-67b00358063f"
      },
      "execution_count": 116,
      "outputs": [
        {
          "output_type": "stream",
          "name": "stdout",
          "text": [
            "[[4]\n",
            " [5]] (2, 1)\n"
          ]
        }
      ]
    },
    {
      "cell_type": "code",
      "source": [
        "print(x+y) "
      ],
      "metadata": {
        "colab": {
          "base_uri": "https://localhost:8080/"
        },
        "id": "7gIHf7oHOixE",
        "outputId": "ee965ec7-6f55-4bc6-fb0f-e87fd6333e95"
      },
      "execution_count": 117,
      "outputs": [
        {
          "output_type": "stream",
          "name": "stdout",
          "text": [
            "[[5 6 7]\n",
            " [6 7 8]]\n"
          ]
        }
      ]
    },
    {
      "cell_type": "markdown",
      "source": [
        "Shape 변경"
      ],
      "metadata": {
        "id": "S6cxp-7sOyGR"
      }
    },
    {
      "cell_type": "code",
      "source": [
        "a = np.arange(24).reshape(2,3,4)\n",
        "print(a, a.shape)"
      ],
      "metadata": {
        "colab": {
          "base_uri": "https://localhost:8080/"
        },
        "id": "ObZqWCuBPLHk",
        "outputId": "86c524e4-5366-43f0-b6c7-3c768296ac07"
      },
      "execution_count": 119,
      "outputs": [
        {
          "output_type": "stream",
          "name": "stdout",
          "text": [
            "[[[ 0  1  2  3]\n",
            "  [ 4  5  6  7]\n",
            "  [ 8  9 10 11]]\n",
            "\n",
            " [[12 13 14 15]\n",
            "  [16 17 18 19]\n",
            "  [20 21 22 23]]] (2, 3, 4)\n"
          ]
        }
      ]
    },
    {
      "cell_type": "code",
      "source": [
        "a = np.reshape(a,(4,-1))\n",
        "print(a, a.shape)"
      ],
      "metadata": {
        "colab": {
          "base_uri": "https://localhost:8080/"
        },
        "id": "2yPRoUUlPW95",
        "outputId": "caad5332-c820-4409-f0ac-be80ba5709cb"
      },
      "execution_count": 132,
      "outputs": [
        {
          "output_type": "stream",
          "name": "stdout",
          "text": [
            "[[ 0  1  2  3  4  5]\n",
            " [ 6  7  8  9 10 11]\n",
            " [12 13 14 15 16 17]\n",
            " [18 19 20 21 22 23]] (4, 6)\n"
          ]
        }
      ]
    },
    {
      "cell_type": "code",
      "source": [
        "a = a[...,np.newaxis]\n",
        "print(a, a.shape)"
      ],
      "metadata": {
        "colab": {
          "base_uri": "https://localhost:8080/"
        },
        "id": "E3ddQXyxPdMj",
        "outputId": "1fd1ab26-c11d-41a6-8839-769d9afcdecb"
      },
      "execution_count": 133,
      "outputs": [
        {
          "output_type": "stream",
          "name": "stdout",
          "text": [
            "[[[ 0]\n",
            "  [ 1]\n",
            "  [ 2]\n",
            "  [ 3]\n",
            "  [ 4]\n",
            "  [ 5]]\n",
            "\n",
            " [[ 6]\n",
            "  [ 7]\n",
            "  [ 8]\n",
            "  [ 9]\n",
            "  [10]\n",
            "  [11]]\n",
            "\n",
            " [[12]\n",
            "  [13]\n",
            "  [14]\n",
            "  [15]\n",
            "  [16]\n",
            "  [17]]\n",
            "\n",
            " [[18]\n",
            "  [19]\n",
            "  [20]\n",
            "  [21]\n",
            "  [22]\n",
            "  [23]]] (4, 6, 1)\n"
          ]
        }
      ]
    },
    {
      "cell_type": "code",
      "source": [
        "a = np.reshape(a,(4,6,1))\n",
        "print(a, a.shape)"
      ],
      "metadata": {
        "id": "eTS0r62qPsIh"
      },
      "execution_count": null,
      "outputs": []
    },
    {
      "cell_type": "code",
      "source": [
        "a = np.reshape(a,(4,-1))\n",
        "a = np.expand_dims(a, axis=1)\n",
        "print(a, a.shape)"
      ],
      "metadata": {
        "colab": {
          "base_uri": "https://localhost:8080/"
        },
        "id": "Us8iekO3P57d",
        "outputId": "cdb3988a-b6de-4578-c097-1374a25246a0"
      },
      "execution_count": 136,
      "outputs": [
        {
          "output_type": "stream",
          "name": "stdout",
          "text": [
            "[[[ 0  1  2  3  4  5]]\n",
            "\n",
            " [[ 6  7  8  9 10 11]]\n",
            "\n",
            " [[12 13 14 15 16 17]]\n",
            "\n",
            " [[18 19 20 21 22 23]]] (4, 1, 6)\n"
          ]
        }
      ]
    },
    {
      "cell_type": "code",
      "source": [
        "b = a.copy()\n",
        "print(b, b.shape)"
      ],
      "metadata": {
        "colab": {
          "base_uri": "https://localhost:8080/"
        },
        "id": "kWKp6uA7QFSr",
        "outputId": "7dbb7c6d-67f0-4b90-e95e-157ac2026a0d"
      },
      "execution_count": 152,
      "outputs": [
        {
          "output_type": "stream",
          "name": "stdout",
          "text": [
            "[[[ 0  1  2  3  4  5]]\n",
            "\n",
            " [[ 6  7  8  9 10 11]]\n",
            "\n",
            " [[12 13 14 15 16 17]]\n",
            "\n",
            " [[18 19 20 21 22 23]]] (4, 1, 6)\n"
          ]
        }
      ]
    },
    {
      "cell_type": "code",
      "source": [
        "c = np.concatenate((a,b), axis= 1)\n",
        "print(c, c.shape)"
      ],
      "metadata": {
        "colab": {
          "base_uri": "https://localhost:8080/"
        },
        "id": "C0c-Sta6QhUX",
        "outputId": "40130856-f127-4f6f-a0a5-b4fffb2b00b4"
      },
      "execution_count": 151,
      "outputs": [
        {
          "output_type": "stream",
          "name": "stdout",
          "text": [
            "[[[ 0  1  2  3  4  5]\n",
            "  [ 0  1  2  3  4  5]]\n",
            "\n",
            " [[ 6  7  8  9 10 11]\n",
            "  [ 6  7  8  9 10 11]]\n",
            "\n",
            " [[12 13 14 15 16 17]\n",
            "  [12 13 14 15 16 17]]\n",
            "\n",
            " [[18 19 20 21 22 23]\n",
            "  [18 19 20 21 22 23]]] (4, 2, 6)\n"
          ]
        }
      ]
    },
    {
      "cell_type": "code",
      "source": [
        "c = np.concatenate((a,b), axis= 0)\n",
        "print(c, c.shape)"
      ],
      "metadata": {
        "colab": {
          "base_uri": "https://localhost:8080/"
        },
        "id": "nm2hHbxzRYe1",
        "outputId": "6dbc9ee4-8f37-4d20-f865-bb15dd858772"
      },
      "execution_count": 142,
      "outputs": [
        {
          "output_type": "stream",
          "name": "stdout",
          "text": [
            "[[[ 0  1  2  3  4  5]]\n",
            "\n",
            " [[ 6  7  8  9 10 11]]\n",
            "\n",
            " [[12 13 14 15 16 17]]\n",
            "\n",
            " [[18 19 20 21 22 23]]\n",
            "\n",
            " [[ 0  1  2  3  4  5]]\n",
            "\n",
            " [[ 6  7  8  9 10 11]]] (6, 1, 6)\n"
          ]
        }
      ]
    },
    {
      "cell_type": "code",
      "source": [
        "d = np.stack((a,b), axis = 0)\n",
        "print(d, d.shape)"
      ],
      "metadata": {
        "colab": {
          "base_uri": "https://localhost:8080/"
        },
        "id": "F2RmmC2qRbSO",
        "outputId": "6cea879f-b688-4d27-a19e-fe54c5d53741"
      },
      "execution_count": 148,
      "outputs": [
        {
          "output_type": "stream",
          "name": "stdout",
          "text": [
            "[[[[ 0  1  2  3  4  5]]\n",
            "\n",
            "  [[ 6  7  8  9 10 11]]\n",
            "\n",
            "  [[12 13 14 15 16 17]]\n",
            "\n",
            "  [[18 19 20 21 22 23]]]\n",
            "\n",
            "\n",
            " [[[ 0  1  2  3  4  5]]\n",
            "\n",
            "  [[ 6  7  8  9 10 11]]\n",
            "\n",
            "  [[12 13 14 15 16 17]]\n",
            "\n",
            "  [[18 19 20 21 22 23]]]] (2, 4, 1, 6)\n"
          ]
        }
      ]
    },
    {
      "cell_type": "code",
      "source": [
        "d = np.stack((a,b), axis = -1)\n",
        "print(d, d.shape)"
      ],
      "metadata": {
        "colab": {
          "base_uri": "https://localhost:8080/"
        },
        "id": "A6gD3ISvUBBZ",
        "outputId": "a3fcf5ad-e012-4332-e8a8-d28ebb1803d2"
      },
      "execution_count": 149,
      "outputs": [
        {
          "output_type": "stream",
          "name": "stdout",
          "text": [
            "[[[[ 0  0]\n",
            "   [ 1  1]\n",
            "   [ 2  2]\n",
            "   [ 3  3]\n",
            "   [ 4  4]\n",
            "   [ 5  5]]]\n",
            "\n",
            "\n",
            " [[[ 6  6]\n",
            "   [ 7  7]\n",
            "   [ 8  8]\n",
            "   [ 9  9]\n",
            "   [10 10]\n",
            "   [11 11]]]\n",
            "\n",
            "\n",
            " [[[12 12]\n",
            "   [13 13]\n",
            "   [14 14]\n",
            "   [15 15]\n",
            "   [16 16]\n",
            "   [17 17]]]\n",
            "\n",
            "\n",
            " [[[18 18]\n",
            "   [19 19]\n",
            "   [20 20]\n",
            "   [21 21]\n",
            "   [22 22]\n",
            "   [23 23]]]] (4, 1, 6, 2)\n"
          ]
        }
      ]
    },
    {
      "cell_type": "code",
      "source": [
        "d = np.stack((a,b), axis = 1)\n",
        "print(d, d.shape)"
      ],
      "metadata": {
        "colab": {
          "base_uri": "https://localhost:8080/"
        },
        "id": "9VywSMuyUODW",
        "outputId": "6f154cb5-d2e4-4620-987b-4e92a1c15b97"
      },
      "execution_count": 150,
      "outputs": [
        {
          "output_type": "stream",
          "name": "stdout",
          "text": [
            "[[[[ 0  1  2  3  4  5]]\n",
            "\n",
            "  [[ 0  1  2  3  4  5]]]\n",
            "\n",
            "\n",
            " [[[ 6  7  8  9 10 11]]\n",
            "\n",
            "  [[ 6  7  8  9 10 11]]]\n",
            "\n",
            "\n",
            " [[[12 13 14 15 16 17]]\n",
            "\n",
            "  [[12 13 14 15 16 17]]]\n",
            "\n",
            "\n",
            " [[[18 19 20 21 22 23]]\n",
            "\n",
            "  [[18 19 20 21 22 23]]]] (4, 2, 1, 6)\n"
          ]
        }
      ]
    }
  ]
}