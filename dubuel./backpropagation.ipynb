{
  "cells": [
    {
      "cell_type": "markdown",
      "metadata": {
        "id": "view-in-github",
        "colab_type": "text"
      },
      "source": [
        "<a href=\"https://colab.research.google.com/github/dubuel/MLPytorch/blob/main/dubuel./backpropagation.ipynb\" target=\"_parent\"><img src=\"https://colab.research.google.com/assets/colab-badge.svg\" alt=\"Open In Colab\"/></a>"
      ]
    },
    {
      "cell_type": "markdown",
      "metadata": {
        "id": "kYd8rR_5LOQq"
      },
      "source": [
        "## 수치 미분을 이용한 심층 신경망 학습"
      ]
    },
    {
      "cell_type": "code",
      "execution_count": 6,
      "metadata": {
        "id": "k-IqFI5_LOQr"
      },
      "outputs": [],
      "source": [
        "import time\n",
        "import numpy as np"
      ]
    },
    {
      "cell_type": "markdown",
      "metadata": {
        "id": "hkVH-8FbLOQs"
      },
      "source": [
        "## 유틸리티 함수"
      ]
    },
    {
      "cell_type": "code",
      "execution_count": 7,
      "metadata": {
        "id": "NjkcptsRLOQt"
      },
      "outputs": [],
      "source": [
        "def _t(x):\n",
        "    return np.transpose(x)\n",
        "\n",
        "def _m(A, B):\n",
        "    return np.matmul(A, B)"
      ]
    },
    {
      "cell_type": "markdown",
      "metadata": {
        "id": "X-WJOMLMLOQt"
      },
      "source": [
        "## Sigmoid 구현"
      ]
    },
    {
      "cell_type": "code",
      "execution_count": 8,
      "metadata": {
        "id": "FvHv1KhcLOQt"
      },
      "outputs": [],
      "source": [
        "class Sigmoid:\n",
        "    def __init__(self):\n",
        "        self.last_o = 1\n",
        "\n",
        "    def __call__(self, x):\n",
        "        self.last_o = 1/ (1.0 + np.exp(-x))\n",
        "        return self.last_o\n",
        "\n",
        "    def grad(self):\n",
        "        return self.last_o*(1-self.last_o)"
      ]
    },
    {
      "cell_type": "markdown",
      "metadata": {
        "id": "W6evTUNbLOQt"
      },
      "source": [
        "## Mean Squared Error 구현"
      ]
    },
    {
      "cell_type": "code",
      "execution_count": 9,
      "metadata": {
        "id": "qU5WW6bpLOQu"
      },
      "outputs": [],
      "source": [
        "class MeanSquaredError:\n",
        "    def __init__(self):\n",
        "        # gradient & h - y initialize\n",
        "        self.dh = 1\n",
        "        self.last_diff = 1\n",
        "\n",
        "    def __call__(self, h, y):\n",
        "        self.last_diff = h - y\n",
        "        return 1 / 2 *np.mean(np.square(self.last_diff))\n",
        "\n",
        "    def grad(self):\n",
        "        return self.last_diff"
      ]
    },
    {
      "cell_type": "markdown",
      "metadata": {
        "id": "kFRPgJVXLOQu"
      },
      "source": [
        "## 뉴런 구현"
      ]
    },
    {
      "cell_type": "code",
      "execution_count": 15,
      "metadata": {
        "id": "hi5uRxokLOQu"
      },
      "outputs": [],
      "source": [
        "class Neuron:\n",
        "    def __init__(self, W, b, a_obj):\n",
        "        self.W = W\n",
        "        self.b = b\n",
        "        self.a = a_obj()\n",
        "\n",
        "        #gradient store\n",
        "        self.dw =  np.zeros_like(self.W)\n",
        "        self.db = np.zeros_like(self.b)\n",
        "        self.dh = np.zeros_like(_t(self.W))\n",
        "\n",
        "        self.last_x = np.zeros((self.W.shape[0]))\n",
        "        self.last_h = np.zeros((self.W.shape[1]))\n",
        "\n",
        "    def __call__(self, x): #forward inference\n",
        "        self.last_x = x\n",
        "        self.last_h = _m(_t(self.W), x) + self.b\n",
        "        return self.a(self.last_h)\n",
        "\n",
        "    def grad(self): #dy/dh = W (y = Wx + b, x == h )\n",
        "        return self.W * self.a.grad()\n",
        "\n",
        "    def grad_W(self, dh): #dy/dW\n",
        "        grad= np.ones_like(self.W)\n",
        "        grad_a = self.a.grad()\n",
        "        for j in range(grad.shape[1]):\n",
        "          grad[:,j] = dh[j]*grad_a[j]*self.last_x\n",
        "        return grad\n",
        "\n",
        "    def grad_b(self, dh):\n",
        "        return dh * self.a.grad()*1"
      ]
    },
    {
      "cell_type": "markdown",
      "metadata": {
        "id": "VZPRoTCrLOQv"
      },
      "source": [
        "## 심층신경망 구현"
      ]
    },
    {
      "cell_type": "code",
      "execution_count": 11,
      "metadata": {
        "id": "L7nyRWRbLOQv"
      },
      "outputs": [],
      "source": [
        "class DNN:\n",
        "  def __init__(self, hidden_depth, num_neuron, input, output, activation = Sigmoid):\n",
        "    def init_var(i, o):\n",
        "      return np.random.normal(0.0, 0.01, (i,o)), np.zeros((o,))\n",
        "    \n",
        "    self.sequence = []\n",
        "\n",
        "    W, b = init_var(input, num_neuron)\n",
        "    self.sequence.append(Neuron(W,b,activation))\n",
        "\n",
        "    for _ in range(hidden_depth):\n",
        "      W,b = init_var(num_neuron, num_neuron)\n",
        "      self.sequence.append(Neuron(W,b,activation))\n",
        "\n",
        "    W , b = init_var(num_neuron, output)\n",
        "    self.sequence.append(Neuron(W,b,activation))\n",
        "\n",
        "  def __call__(self, x):\n",
        "    for layer in self.sequence:\n",
        "      x = layer(x)\n",
        "    return x\n",
        "\n",
        "  def calc_gradient(self,loss_obj):\n",
        "    loss_obj.dh = loss_obj.grad()\n",
        "    self.sequence.append(loss_obj)\n",
        "\n",
        "    #back propagation loop\n",
        "    for i in range(len(self.sequence) -1 , 0 , -1):\n",
        "      l1 = self.sequence[i]\n",
        "      l0 = self.sequence[i-1]\n",
        "\n",
        "      l0.dh = _m(l0.grad(), l1.dh)\n",
        "      l0.dw = l0.grad_W(l1.dh)\n",
        "      l0.db = l0.grad_b(l1.dh)\n",
        "    self.sequence.remove(loss_obj)"
      ]
    },
    {
      "cell_type": "markdown",
      "metadata": {
        "id": "77oI24pxLOQv"
      },
      "source": [
        "## 경사하강 학습법"
      ]
    },
    {
      "cell_type": "code",
      "execution_count": 18,
      "metadata": {
        "id": "raiqtIHoLOQw"
      },
      "outputs": [],
      "source": [
        "def gradient_descent(network, x, y, loss_obj, alpha = 0.01):\n",
        "  loss = loss_obj(network(x), y)   #Forward inference\n",
        "  network.calc_gradient(loss_obj)  #Back propagation\n",
        "  for layer in network.sequence:   #모든 layer에 대해\n",
        "    layer.W += -alpha * layer.dw\n",
        "    layer.b += -alpha * layer.db\n",
        "  return loss\n",
        "    "
      ]
    },
    {
      "cell_type": "markdown",
      "metadata": {
        "id": "uVqGkA7ULOQw"
      },
      "source": [
        "## 동작 테스트"
      ]
    },
    {
      "cell_type": "code",
      "execution_count": 21,
      "metadata": {
        "colab": {
          "base_uri": "https://localhost:8080/"
        },
        "id": "ZNCRfnyNLOQw",
        "outputId": "3e52f94b-70e2-4e65-bac6-743e2ec47a6c"
      },
      "outputs": [
        {
          "output_type": "stream",
          "name": "stdout",
          "text": [
            "Epoch 0 : Test loss 0.19741929448160567\n",
            "Epoch 1 : Test loss 0.19521024820223132\n",
            "Epoch 2 : Test loss 0.19302793093961024\n",
            "Epoch 3 : Test loss 0.19087249522854663\n",
            "Epoch 4 : Test loss 0.18874406442880776\n",
            "Epoch 5 : Test loss 0.18664273355262936\n",
            "Epoch 6 : Test loss 0.18456857014272005\n",
            "Epoch 7 : Test loss 0.18252161519396337\n",
            "Epoch 8 : Test loss 0.1805018841121689\n",
            "Epoch 9 : Test loss 0.17850936770341883\n",
            "Epoch 10 : Test loss 0.1765440331877927\n",
            "Epoch 11 : Test loss 0.17460582523152168\n",
            "Epoch 12 : Test loss 0.17269466699192296\n",
            "Epoch 13 : Test loss 0.17081046116978263\n",
            "Epoch 14 : Test loss 0.16895309106419518\n",
            "Epoch 15 : Test loss 0.16712242162521557\n",
            "Epoch 16 : Test loss 0.16531830050003588\n",
            "Epoch 17 : Test loss 0.16354055906876172\n",
            "Epoch 18 : Test loss 0.1617890134662194\n",
            "Epoch 19 : Test loss 0.1600634655865823\n",
            "Epoch 20 : Test loss 0.158363704067953\n",
            "Epoch 21 : Test loss 0.15668950525437478\n",
            "Epoch 22 : Test loss 0.15504063413307434\n",
            "Epoch 23 : Test loss 0.15341684524504842\n",
            "Epoch 24 : Test loss 0.1518178835674059\n",
            "Epoch 25 : Test loss 0.150243485366157\n",
            "Epoch 26 : Test loss 0.14869337901840493\n",
            "Epoch 27 : Test loss 0.14716728580314148\n",
            "Epoch 28 : Test loss 0.1456649206600767\n",
            "Epoch 29 : Test loss 0.1441859929161407\n",
            "Epoch 30 : Test loss 0.14273020697949063\n",
            "Epoch 31 : Test loss 0.14129726300102577\n",
            "Epoch 32 : Test loss 0.13988685750357688\n",
            "Epoch 33 : Test loss 0.13849868397906998\n",
            "Epoch 34 : Test loss 0.13713243345409543\n",
            "Epoch 35 : Test loss 0.1357877950244182\n",
            "Epoch 36 : Test loss 0.13446445635906434\n",
            "Epoch 37 : Test loss 0.1331621041746976\n",
            "Epoch 38 : Test loss 0.1318804246810711\n",
            "Epoch 39 : Test loss 0.13061910399839793\n",
            "Epoch 40 : Test loss 0.1293778285475271\n",
            "Epoch 41 : Test loss 0.12815628541385424\n",
            "Epoch 42 : Test loss 0.12695416268591914\n",
            "Epoch 43 : Test loss 0.12577114976966555\n",
            "Epoch 44 : Test loss 0.12460693767934902\n",
            "Epoch 45 : Test loss 0.12346121930608522\n",
            "Epoch 46 : Test loss 0.12233368966503014\n",
            "Epoch 47 : Test loss 0.12122404612217963\n",
            "Epoch 48 : Test loss 0.12013198860176322\n",
            "Epoch 49 : Test loss 0.11905721977519558\n",
            "Epoch 50 : Test loss 0.11799944523252932\n",
            "Epoch 51 : Test loss 0.11695837363733456\n",
            "Epoch 52 : Test loss 0.1159337168659048\n",
            "Epoch 53 : Test loss 0.11492519013166695\n",
            "Epoch 54 : Test loss 0.11393251209564406\n",
            "Epoch 55 : Test loss 0.11295540496379286\n",
            "Epoch 56 : Test loss 0.11199359457200839\n",
            "Epoch 57 : Test loss 0.11104681045955972\n",
            "Epoch 58 : Test loss 0.11011478593168882\n",
            "Epoch 59 : Test loss 0.10919725811207642\n",
            "Epoch 60 : Test loss 0.108293967985847\n",
            "Epoch 61 : Test loss 0.1074046604337549\n",
            "Epoch 62 : Test loss 0.10652908425816603\n",
            "Epoch 63 : Test loss 0.10566699220141679\n",
            "Epoch 64 : Test loss 0.10481814095710576\n",
            "Epoch 65 : Test loss 0.10398229117484464\n",
            "Epoch 66 : Test loss 0.10315920745896745\n",
            "Epoch 67 : Test loss 0.10234865836167018\n",
            "Epoch 68 : Test loss 0.10155041637102816\n",
            "Epoch 69 : Test loss 0.10076425789431187\n",
            "Epoch 70 : Test loss 0.09998996323699993\n",
            "Epoch 71 : Test loss 0.0992273165778625\n",
            "Epoch 72 : Test loss 0.09847610594046863\n",
            "Epoch 73 : Test loss 0.09773612316144722\n",
            "Epoch 74 : Test loss 0.09700716385581318\n",
            "Epoch 75 : Test loss 0.0962890273796492\n",
            "Epoch 76 : Test loss 0.09558151679041592\n",
            "Epoch 77 : Test loss 0.094884438805145\n",
            "Epoch 78 : Test loss 0.09419760375675408\n",
            "Epoch 79 : Test loss 0.0935208255487042\n",
            "Epoch 80 : Test loss 0.09285392160820771\n",
            "Epoch 81 : Test loss 0.09219671283817928\n",
            "Epoch 82 : Test loss 0.09154902356810785\n",
            "Epoch 83 : Test loss 0.0909106815040172\n",
            "Epoch 84 : Test loss 0.09028151767766837\n",
            "Epoch 85 : Test loss 0.08966136639514627\n",
            "Epoch 86 : Test loss 0.0890500651849636\n",
            "Epoch 87 : Test loss 0.08844745474580215\n",
            "Epoch 88 : Test loss 0.08785337889400546\n",
            "Epoch 89 : Test loss 0.08726768451092479\n",
            "Epoch 90 : Test loss 0.08669022149021373\n",
            "Epoch 91 : Test loss 0.0861208426851591\n",
            "Epoch 92 : Test loss 0.08555940385612637\n",
            "Epoch 93 : Test loss 0.08500576361819395\n",
            "Epoch 94 : Test loss 0.0844597833890411\n",
            "Epoch 95 : Test loss 0.08392132733715088\n",
            "Epoch 96 : Test loss 0.08339026233038202\n",
            "Epoch 97 : Test loss 0.0828664578849592\n",
            "Epoch 98 : Test loss 0.08234978611492635\n",
            "Epoch 99 : Test loss 0.08184012168210238\n",
            "0.15804409980773926 seconds\n"
          ]
        }
      ],
      "source": [
        "x = np.random.normal(0.0, 1.0, (10,))\n",
        "y = np.random.normal(0.0, 1.0, (2,))\n",
        "\n",
        "t = time.time()\n",
        "dnn = DNN(hidden_depth = 5, num_neuron = 32, input = 10, output = 2, activation= Sigmoid)\n",
        "loss_obj = MeanSquaredError()\n",
        "for epoch in range(100):\n",
        "  loss = gradient_descent(dnn, x, y, loss_obj, alpha = 0.01)\n",
        "  print(f'Epoch {epoch} : Test loss {loss}')\n",
        "print(f'{time.time() - t} seconds')"
      ]
    },
    {
      "cell_type": "code",
      "execution_count": null,
      "metadata": {
        "id": "wM_PXgkSLOQx"
      },
      "outputs": [],
      "source": [
        ""
      ]
    }
  ],
  "metadata": {
    "kernelspec": {
      "display_name": "Python 3",
      "language": "python",
      "name": "python3"
    },
    "language_info": {
      "codemirror_mode": {
        "name": "ipython",
        "version": 3
      },
      "file_extension": ".py",
      "mimetype": "text/x-python",
      "name": "python",
      "nbconvert_exporter": "python",
      "pygments_lexer": "ipython3",
      "version": "3.7.0"
    },
    "colab": {
      "name": "28. 역전파 학습법을 이용한 심층 신경망 학습_실습.ipynb",
      "provenance": [],
      "collapsed_sections": [],
      "include_colab_link": true
    }
  },
  "nbformat": 4,
  "nbformat_minor": 0
}